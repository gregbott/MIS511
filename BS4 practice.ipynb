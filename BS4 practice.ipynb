{
 "cells": [
  {
   "cell_type": "markdown",
   "metadata": {},
   "source": [
    "# Downloading and Storing Files from the Web \n",
    "Consider a situation in which you are required to periodically download all files from a certain web site. For example, you want to build your library of classsic books. You locate a size with dozens of books in three formats (PDF, MOBI, and ePub). Doing this manually would involve hundreds of steps, but with a few lines of code you can download all 300+ files at once, name them properly, and save them in your classic book folder."
   ]
  },
  {
   "cell_type": "code",
   "execution_count": null,
   "metadata": {},
   "outputs": [],
   "source": []
  },
  {
   "cell_type": "code",
   "execution_count": null,
   "metadata": {},
   "outputs": [],
   "source": [
    "# https://www.planetebook.com/ebooks/\n",
    "\n",
    "# Beef up your digital library with classic books\n",
    "\n",
    "#save books to folder\n",
    "\n",
    "import requests, bs4, os\n",
    "\n",
    "# Folder to which books will be downloaded\n",
    "book_folder_path = \"c:\\\\mybooks\\\\\"\n",
    "book_portion_url = \"\"\n",
    "book_request = \"\"\n",
    "\n",
    "# This is the URL that lists all the books available for free download at Planet Book\n",
    "top_url = \"https://www.planetebook.com/ebooks\"\n",
    "\n",
    "# Sites often reject requests without User-Agent. Obtain your request headers from Network tab, All, Headers, Request Headers, User-Agent.\n",
    "headers = {'User-Agent' : 'Mozilla/5.0 (Windows NT 10.0; Win64; x64) AppleWebKit/537.36 (KHTML, like Gecko) Chrome/71.0.3578.98 Safari/537.36'}\n",
    "\n",
    "res = requests.get(top_url, headers=headers)\n",
    "type(res)"
   ]
  },
  {
   "cell_type": "code",
   "execution_count": null,
   "metadata": {},
   "outputs": [],
   "source": [
    "# Test if our code is ok\n",
    "if res.status_code == requests.codes.ok:\n",
    "    print(\"request ok\")\n",
    "else:\n",
    "    print(res.status_code) #403 = forbidden; "
   ]
  },
  {
   "cell_type": "code",
   "execution_count": null,
   "metadata": {},
   "outputs": [],
   "source": [
    "ebooks_main = bs4.BeautifulSoup(res.text, \"html.parser\")\n",
    "#print(ebooks_main)\n",
    "for p in ebooks_main.find_all('p', class_=\"pelistlinks\"):\n",
    "    #print(p.find('a')['href']) \n",
    "    #navigate to each link - https://www.planetebook.com/free-ebooks/the-adventures-of-huckleberry-finn.pdf\n",
    "    book_portion_url = p.find('a')['href']    \n",
    "    book_full_path = book_folder_path + book_portion_url.replace(\"/\",\"\") + \".pdf\"\n",
    "    book_request = \"https://www.planetbook.com/free-ebooks/\" + book_portion_url.replace(\"/\",\"\") + \".pdf\"\n",
    "    book_title = book_portion_url.replace(\"/\",\"\")\n",
    "    print(\"Requesting...\" + book_request + \"\\n\")\n",
    "    #resbook = requests.get(\"https://www.planetebook.com/free-ebooks/the-adventures-of-huckleberry-finn.pdf\", headers=headers)\n",
    "    resbook = requests.get(\"https://www.planetebook.com/free-ebooks/\" + book_portion_url.replace(\"/\",\"\") + \".pdf\", headers=headers)    \n",
    "    bookfile = open(book_folder_path + book_title + \".pdf\", 'wb')\n",
    "    for chunk in resbook.iter_content(100000):\n",
    "        bookfile.write(chunk)\n",
    "    bookfile.close\n",
    "        \n",
    "    bookfile = open(book_folder_path + book_title + \".mobi\", 'wb')\n",
    "    for chunk in resbook.iter_content(100000):\n",
    "        bookfile.write(chunk)\n",
    "    bookfile.close\n",
    "    \n",
    "    bookfile = open(book_folder_path + book_title + \".epub\", 'wb')\n",
    "    for chunk in resbook.iter_content(100000):\n",
    "        bookfile.write(chunk)\n",
    "    bookfile.close"
   ]
  },
  {
   "cell_type": "code",
   "execution_count": null,
   "metadata": {},
   "outputs": [],
   "source": [
    "for link in ebooks_main.find_all(class_='pelistlinks'):    \n",
    "    print(link.text)"
   ]
  },
  {
   "cell_type": "code",
   "execution_count": null,
   "metadata": {},
   "outputs": [],
   "source": [
    "books = ebooks_main.find_all(class_='pelistlinks')\n",
    "books[0].text.split(\"\\n\")"
   ]
  },
  {
   "cell_type": "code",
   "execution_count": null,
   "metadata": {},
   "outputs": [],
   "source": [
    "resbook = requests.get(\"https://www.planetebook.com/free-ebooks/the-adventures-of-huckleberry-finn.pdf\", headers=headers)\n",
    "book_title = \"the-adventures-of-huckleberry-finn.pdf\"\n",
    "bookfile = open(book_folder_path + book_title + \".pdf\", 'wb')\n",
    "for chunk in resbook.iter_content(100000):\n",
    "    bookfile.write(chunk)\n",
    "bookfile.close\n"
   ]
  },
  {
   "cell_type": "code",
   "execution_count": null,
   "metadata": {},
   "outputs": [],
   "source": []
  }
 ],
 "metadata": {
  "kernelspec": {
   "display_name": "Python 3",
   "language": "python",
   "name": "python3"
  },
  "language_info": {
   "codemirror_mode": {
    "name": "ipython",
    "version": 3
   },
   "file_extension": ".py",
   "mimetype": "text/x-python",
   "name": "python",
   "nbconvert_exporter": "python",
   "pygments_lexer": "ipython3",
   "version": "3.7.0"
  }
 },
 "nbformat": 4,
 "nbformat_minor": 2
}
