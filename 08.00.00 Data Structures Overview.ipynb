{
 "cells": [
  {
   "cell_type": "markdown",
   "metadata": {},
   "source": [
    "--> Add intro to Objects and Classes here? (source: https://python.swaroopch.com/data_structures.html)"
   ]
  },
  {
   "cell_type": "markdown",
   "metadata": {},
   "source": [
    "# Data Structures\n",
    "\n",
    "Data structures are ordered sequences of objects--structures that hold data. There are four data structures in Python:\n",
    "\n",
    "* Lists\n",
    "* Tuples\n",
    "* Dictionaries\n",
    "* Sets"
   ]
  },
  {
   "cell_type": "markdown",
   "metadata": {},
   "source": [
    "## What are Lists?\n",
    "\n",
    "Lists a *list* is a sequence of values (also called elements or items).\n",
    "\n",
    "Lists use square brakets. Tuples use parentheses (though optional). "
   ]
  },
  {
   "cell_type": "code",
   "execution_count": 1,
   "metadata": {},
   "outputs": [
    {
     "name": "stdout",
     "output_type": "stream",
     "text": [
      "['blue', 'yellow', 'red', 'white', 'black'] [55, 7] []\n"
     ]
    }
   ],
   "source": [
    "primary_colors = ['blue', 'yellow', 'red', 'white', 'black']\n",
    "numbers = [55, 7]\n",
    "empty = []\n",
    "\n",
    "print(primary_colors, numbers, empty)"
   ]
  },
  {
   "cell_type": "markdown",
   "metadata": {},
   "source": [
    "Lists can be nested."
   ]
  },
  {
   "cell_type": "code",
   "execution_count": 7,
   "metadata": {},
   "outputs": [
    {
     "name": "stdout",
     "output_type": "stream",
     "text": [
      "['car', 56]\n"
     ]
    }
   ],
   "source": [
    "nested = ['Alabama', 'Georgia', ['car', 56]]\n",
    "print(nested[2])"
   ]
  },
  {
   "cell_type": "code",
   "execution_count": 8,
   "metadata": {},
   "outputs": [
    {
     "name": "stdout",
     "output_type": "stream",
     "text": [
      "56\n"
     ]
    }
   ],
   "source": [
    "print(nested[2][1])"
   ]
  },
  {
   "cell_type": "markdown",
   "metadata": {},
   "source": [
    "## Traversing a list\n"
   ]
  },
  {
   "cell_type": "code",
   "execution_count": 9,
   "metadata": {},
   "outputs": [
    {
     "name": "stdout",
     "output_type": "stream",
     "text": [
      "blue\n",
      "yellow\n",
      "red\n",
      "white\n",
      "black\n"
     ]
    }
   ],
   "source": [
    "for p_color in primary_colors:\n",
    "    print(p_color)"
   ]
  }
 ],
 "metadata": {
  "kernelspec": {
   "display_name": "Python 3",
   "language": "python",
   "name": "python3"
  },
  "language_info": {
   "codemirror_mode": {
    "name": "ipython",
    "version": 3
   },
   "file_extension": ".py",
   "mimetype": "text/x-python",
   "name": "python",
   "nbconvert_exporter": "python",
   "pygments_lexer": "ipython3",
   "version": "3.7.0"
  }
 },
 "nbformat": 4,
 "nbformat_minor": 2
}
