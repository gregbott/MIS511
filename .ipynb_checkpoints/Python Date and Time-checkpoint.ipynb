{
 "cells": [
  {
   "cell_type": "markdown",
   "metadata": {},
   "source": [
    "# Date and Time\n",
    "\n",
    "## Epoch Time\n",
    "\n",
    "One way time is expressed in Python is in seconds since the epoch (January 1, 1970). The \"epoch\" ends somtime in 2038 for Windows and Unix, so avoid referencing dates before or after the epoch.\n",
    "\n",
    "### Time Module\n",
    "Use the built-in **time** module to return the number of seconds (ticks) since January 1, 1970."
   ]
  },
  {
   "cell_type": "code",
   "execution_count": 1,
   "metadata": {},
   "outputs": [
    {
     "name": "stdout",
     "output_type": "stream",
     "text": [
      "Ticks since January 1, 1970 = 1544412101.5975053\n",
      "2.2758692704991117e-05\n"
     ]
    }
   ],
   "source": [
    "import time\n",
    "\n",
    "# Get number of ticks\n",
    "ticks = time.time()\n",
    "\n",
    "print(\"Ticks since January 1, 1970 =\", ticks)\n",
    "\n",
    "print(time.clock())"
   ]
  },
  {
   "cell_type": "markdown",
   "metadata": {},
   "source": [
    "-- Add info about datetime module --"
   ]
  },
  {
   "cell_type": "code",
   "execution_count": 2,
   "metadata": {},
   "outputs": [
    {
     "name": "stdout",
     "output_type": "stream",
     "text": [
      "2019-03-09 21:21:45.389330\n"
     ]
    }
   ],
   "source": [
    "from datetime import datetime\n",
    "from datetime import timedelta\n",
    "\n",
    "#Add 90 days\n",
    "print(datetime.now() + timedelta(days=90))\n",
    "\n",
    "\n",
    "      "
   ]
  },
  {
   "cell_type": "code",
   "execution_count": 11,
   "metadata": {},
   "outputs": [
    {
     "name": "stdout",
     "output_type": "stream",
     "text": [
      "Calendar:\n",
      "    January 2019\n",
      "Mo Tu We Th Fr Sa Su\n",
      "    1  2  3  4  5  6\n",
      " 7  8  9 10 11 12 13\n",
      "14 15 16 17 18 19 20\n",
      "21 22 23 24 25 26 27\n",
      "28 29 30 31\n",
      "\n"
     ]
    }
   ],
   "source": [
    "import calendar\n",
    "\n",
    "cal = calendar.month(2019,1)\n",
    "print(\"Calendar:\")\n",
    "print(cal)"
   ]
  },
  {
   "cell_type": "code",
   "execution_count": null,
   "metadata": {},
   "outputs": [],
   "source": []
  }
 ],
 "metadata": {
  "kernelspec": {
   "display_name": "Python 3",
   "language": "python",
   "name": "python3"
  },
  "language_info": {
   "codemirror_mode": {
    "name": "ipython",
    "version": 3
   },
   "file_extension": ".py",
   "mimetype": "text/x-python",
   "name": "python",
   "nbconvert_exporter": "python",
   "pygments_lexer": "ipython3",
   "version": "3.6.5"
  }
 },
 "nbformat": 4,
 "nbformat_minor": 2
}
