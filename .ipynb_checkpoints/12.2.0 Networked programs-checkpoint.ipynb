{
 "cells": [
  {
   "cell_type": "code",
   "execution_count": 2,
   "metadata": {},
   "outputs": [
    {
     "name": "stdout",
     "output_type": "stream",
     "text": [
      "no data\n",
      "0\n"
     ]
    }
   ],
   "source": [
    "import socket\n",
    "\n",
    "mysock = socket.socket(socket.AF_INET, socket.SOCK_STREAM) \n",
    "mysock.connect(('content.gogoair.com', 80)) \n",
    "cmd = 'GET http://content.gogoair.com/terms/?lang=en_US#sec-acceptable-use-and-conduct'.encode() \n",
    "mysock.send(cmd)\n",
    "while True: \n",
    "    data = mysock.recv(512) \n",
    "    if (len(data) < 1): \n",
    "        print(\"no data\")\n",
    "        print(len(data))\n",
    "        break\n",
    "print(data.decode(),end='')\n",
    "mysock.close()"
   ]
  },
  {
   "cell_type": "code",
   "execution_count": null,
   "metadata": {},
   "outputs": [],
   "source": []
  },
  {
   "cell_type": "code",
   "execution_count": null,
   "metadata": {},
   "outputs": [],
   "source": []
  }
 ],
 "metadata": {
  "kernelspec": {
   "display_name": "Python 3",
   "language": "python",
   "name": "python3"
  },
  "language_info": {
   "codemirror_mode": {
    "name": "ipython",
    "version": 3
   },
   "file_extension": ".py",
   "mimetype": "text/x-python",
   "name": "python",
   "nbconvert_exporter": "python",
   "pygments_lexer": "ipython3",
   "version": "3.6.5"
  }
 },
 "nbformat": 4,
 "nbformat_minor": 2
}
