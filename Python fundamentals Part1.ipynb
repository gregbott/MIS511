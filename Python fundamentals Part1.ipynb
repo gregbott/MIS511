{
 "cells": [
  {
   "cell_type": "markdown",
   "metadata": {
    "toc-hr-collapsed": true
   },
   "source": [
    "# Python Fundamentals\n",
    "\n",
    "Prepared by: Gregory J. Bott, Ph.D.\n",
    "(Sources: Python for Everyone, Charles Severance; A Whirlwind Tour of Python, Jake Vanderplas)\n"
   ]
  },
  {
   "cell_type": "markdown",
   "metadata": {},
   "source": [
    "## Why should a business student learn Python?\n",
    "\n",
    "Information is the lifeblood of nearly every organization. The purpose of this notebook is the help business students master the fundamental concepts and skills required to effectively use Python. Python skills are in high demand. One reason for this demand is Python's ability to efficiently acquire, manipulate, analyze and visual data. However, prior to performing data analytic tasks, business students must learn the fundamentals."
   ]
  },
  {
   "cell_type": "markdown",
   "metadata": {},
   "source": [
    "## Data Analysis is Part of *Every* Job\n",
    "It's not just data scientists or data analytics that need analysis skills. Nearly every job intersects with data. It's highly likely that even if your job doesn't have \"analyst\" or \"scientst\" in the title, you'll still benefit from understanding how to acquire, handle, manipulate, and report data.\n",
    "\n",
    "> ### Deloitte: \"...skills that were highly appreciated in Deloitte and projects were Java, Python/R...\"\n"
   ]
  },
  {
   "cell_type": "markdown",
   "metadata": {},
   "source": [
    "## Python skills are in high demand\n",
    "\n",
    "2018 Developer Survey by StackOverflow\n",
    "\n",
    "![](images/2018MostWantedLanguages.jpg)\n",
    "\n",
    "TODO: Add Github stats showing Python as /#3 overall."
   ]
  },
  {
   "cell_type": "markdown",
   "metadata": {
    "toc-hr-collapsed": false
   },
   "source": [
    "## Programming Teaches Problem solving\n",
    "\n",
    "The ability to think critically and solve problems is a general life skill. Proble solving applies to the all facets of life. In this course you'll learn Python syntax and structures, but more importantly you'll learn to abstract a problem and code a solution. "
   ]
  },
  {
   "cell_type": "markdown",
   "metadata": {},
   "source": [
    "## Python is the new Excel\n",
    "Business rightly assume that you have solid Excel skills. However, the new expectation is that you already possess the skills necessary to handle data acquisition, analysis, and visualization. And alothough this can arguably still be done in Excel, Python's tools and libraries are exponentially more efficient. \n",
    "\n",
    "Python is the new Excel. (see https://www.fincad.com/blog/python-new-excel)"
   ]
  },
  {
   "cell_type": "markdown",
   "metadata": {
    "toc-hr-collapsed": false
   },
   "source": [
    "## About the Python language\n",
    "(Sources: Wikipedia, Dr. Nickolas K. Freeman)\n",
    "\n",
    ">Python is an interpreted high-level programming language for general-purpose programming. Created by Guido van Rossum and first released in 1991, Python has a design philosophy that emphasizes code readability, and a syntax that allows programmers to express concepts in fewer lines of code, notably using significant whitespace. It provides constructs that enable clear programming on both small and large scales.\n",
    "\n",
    ">Python is a multi-paradigm programming language. Object-oriented programming and structured programming are fully supported, and many of its features support functional programming and aspect-oriented programming (including by metaprogramming and metaobjects (magic methods)). Many other paradigms are supported via extensions, including design by contract and logic programming.\n",
    "\n",
    ">The language's core philosophy is summarized in the document The Zen of Python (PEP 20), which includes aphorisms such as:\n",
    "\n",
    "> - Beautiful is better than ugly\n",
    "> - Explicit is better than implicit\n",
    "> - Simple is better than complex\n",
    "> - Complex is better than complicated\n",
    "> - Readability counts\n",
    "\n",
    "> Rather than having all of its functionality built into its core, Python was designed to be highly extensible. This compact modularity has made it particularly popular as a means of adding programmable interfaces to existing applications. Van Rossum's vision of a small core language with a large standard library and easily extensible interpreter stemmed from his frustrations with ABC, another programming language that espoused the opposite approach.\n",
    "\n",
    "> While offering choice in coding methodology, the Python philosophy rejects exuberant syntax (such as that of Perl) in favor of a simpler, less-cluttered grammar. As Alex Martelli put it: \"To describe something as 'clever' is not considered a compliment in the Python culture.\" Python's philosophy rejects the Perl \"there is more than one way to do it\" approach to language design in favor of \"there should be one—and preferably only one—obvious way to do it\".\n",
    "\n",
    ">Python's developers strive to avoid premature optimization, and reject patches to non-critical parts of CPython that would offer marginal increases in speed at the cost of clarity. When speed is important, a Python programmer can move time-critical functions to extension modules written in languages such as C, or use PyPy, a just-in-time compiler. Cython is also available, which translates a Python script into C and makes direct C-level API calls into the Python interpreter.\n",
    "\n",
    ">An important goal of Python's developers is keeping it fun to use. This is reflected in the language's name—a tribute to the British comedy group Monty Python—and in occasionally playful approaches to tutorials and reference materials, such as examples that refer to spam and eggs (from a famous Monty Python sketch) instead of the standard foo and bar.\n",
    "\n",
    ">A common neologism in the Python community is *pythonic*, which can have a wide range of meanings related to program style. To say that code is pythonic is to say that it uses Python idioms well, that it is natural or shows fluency in the language, that it conforms with Python's minimalist philosophy and emphasis on readability. In contrast, code that is difficult to understand or reads like a rough transcription from another programming language is called unpythonic.\n",
    "\n",
    ">Users and admirers of Python, especially those considered knowledgeable or experienced, are often referred to as Pythonists, Pythonistas, and Pythoneers\n",
    "# What is a Program?\n",
    "\n",
    "> ## A program is a sequence of instructions that specified how to perform a computation. \n",
    "\n",
    "## Building Blocks of Nearly Every Language\n",
    "* **input** - get data--from user via keyboard, from sensors, from other programs, from databases, etc.\n",
    "* **output** - display results in the console on the screen, on paper, to another program, a web page, etc.\n",
    "* **math** - perform mathematical operations (addition, multiplication, etc.)\n",
    "* **conditional execution** - check for certain values or states and run the appropriate code\n",
    "* **repetition** - repeatedly perform some action a certain number of times"
   ]
  },
  {
   "cell_type": "markdown",
   "metadata": {},
   "source": [
    "### Python is interpreted, not compiled.\n",
    "Programming languages generally fall into one of two categories: Compiled or Interpreted. With a compiled language, code you enter is reduced to a set of machine-specific instructions before being saved as an executable file. With interpreted languages, the code is saved in the same format that you entered. Compiled programs generally run faster than interpreted ones because interpreted programs must be reduced to machine instructions at runtime. However, with an interpreted language you can do things that cannot be done in a compiled language. For example, interpreted programs can modify themselves by adding or changing functions at runtime. It is also usually easier to develop applications in an interpreted environment because you don't have to recompile your application each time you want to test a small section. (source: http://www.vanguardsw.com/dphelp4/dph00296.htm)\n",
    "<br>\n",
    "\n",
    "> ![image](images\\ComplieGraphic2.jpg)\n",
    "\n",
    "<br>\n",
    "\n",
    "> ![image](images\\InterpretedPython2.gif)\n",
    "\n"
   ]
  },
  {
   "cell_type": "code",
   "execution_count": null,
   "metadata": {},
   "outputs": [],
   "source": [
    "# cost = most recent landed cost\n",
    "cost = 1.27"
   ]
  },
  {
   "cell_type": "markdown",
   "metadata": {
    "toc-hr-collapsed": true
   },
   "source": [
    "# Setting Up Your Environment\n",
    "<a id=\"Setting_up_your_environment\"> </a>\n",
    "\n"
   ]
  },
  {
   "cell_type": "markdown",
   "metadata": {},
   "source": [
    "## Installing Anaconda\n",
    "Anaconda is a free and open-source distribution of the Python and R programming languages for scientific computing that aims to simplify package management and deployment. Package versions are managed by the package management system conda. (source: Wikipedia) The Spyder IDE is one of packages included in Anaconda.\n",
    "\n",
    "Watch a [video](https://vimeo.com/309189712)  that explains how to install Anaconda in a Windows environment.\n",
    "\n",
    "**Miniconda** provides the Python interpreter and the conda package manager. If you don't want the preinstalled packages that come with Anaconda, you can install Miniconda and install the packages you want yourself.\n"
   ]
  },
  {
   "cell_type": "markdown",
   "metadata": {},
   "source": [
    "## Start Jupyter Lab in specific directory\n",
    "\n",
    "If you wish to control the starting folder (home folder) of Jupyter Lab, then following these instructions.\n",
    "\n",
    "1. Open Anaconda Prompt\n",
    "2. Navigate to starting folder (e.g., an external drive, G:\\).\n",
    "3. Type jupyter lab and press ENTER\n",
    "    * The Home Folder is the starting folder of the Anaconda prompt."
   ]
  },
  {
   "cell_type": "markdown",
   "metadata": {},
   "source": [
    "## Loading the TOC plugin for Jupyter Lab\n",
    "\n",
    "### Install dependencies\n",
    "1. Right-click the Anaconda prompt icon and then click Run as Administrator.\n",
    "2. In the console window, type the following commands:\n",
    "  * conda udpate conda\n",
    "  * conda install nodejs\n",
    "  * conda install npm\n",
    "  * jupyter labextension install @jupyterlab/toc\n",
    "1. Then to start Jupyter Lab, type:\n",
    "  * jupyter lab --watch\n",
    "  \n",
    "  \n",
    "  (Source: https://github.com/jupyterlab/jupyterlab-toc)"
   ]
  },
  {
   "cell_type": "markdown",
   "metadata": {},
   "source": [
    "## Installing an IDE\n",
    "\n",
    "### Spyder\n",
    "Spyder is a simple IDE that is useful for learning Python. It is included with the install of Anaconda. \n",
    "\n",
    "### Pycharm\n",
    "If you would like an IDE with a larger feature set, Pycharm is a good choice. \n",
    "\n",
    "You are welcome to use either of these IDEs for this class. You are also welcome to use a different IDE, but we cannot support all IDEs, so if you choose an IDE besides these two, we'll give you best effort support, but you may be on your own making a different IDE work."
   ]
  },
  {
   "cell_type": "markdown",
   "metadata": {
    "toc-hr-collapsed": true
   },
   "source": [
    "# Why should a business student learn Python?\n",
    "\n",
    "### Data Analysis is Part of *Every* Job\n",
    "It's not just data scientists or data analytics that need analysis skills. Nearly every job intersects with data. It's highly likely that even if your job doesn't have \"analyst\" or \"scientst\" in the title, you'll still benefit from understanding how to acquire, handle, manipulate, and report data.\n",
    "\n",
    "> ### Deloitte: \"...skills that were highly appreciated in Deloitte and projects were Java, Python/R...\"\n",
    "\n"
   ]
  },
  {
   "cell_type": "markdown",
   "metadata": {},
   "source": [
    "## Python Coding basics\n"
   ]
  },
  {
   "cell_type": "markdown",
   "metadata": {},
   "source": [
    "### Indentation\n",
    "White space in many languages has little or no meaning. In Python, improper indentation will generate a syntax error:"
   ]
  },
  {
   "cell_type": "markdown",
   "metadata": {},
   "source": [
    "### Comments\n",
    "\n",
    "Make a habit of clearly commenting your code...even if the purpose of the code seems obvious. Even for code you have written yourself, it is often difficult to remember why you chose to implement something in a specific way. \n",
    "\n",
    "Start a comment using the hash (#) symbol "
   ]
  },
  {
   "cell_type": "markdown",
   "metadata": {
    "toc-hr-collapsed": true
   },
   "source": [
    "# Variables, Expressions, and Types\n",
    "\n",
    "Pyton is a *dynamically typed* language. A programming language is said to be dynamically typed, or just 'dynamic', when the majority of its type checking is performed at run-time as opposed to at compile-time. "
   ]
  },
  {
   "cell_type": "code",
   "execution_count": null,
   "metadata": {},
   "outputs": [],
   "source": [
    "#Store a string in a\n",
    "a = \"apple\"\n",
    "print(a, type(a))\n",
    "\n",
    "#Store a float in a\n",
    "a = 3.141\n",
    "print(a, type(a))\n",
    "\n",
    "#Store a list in a\n",
    "a = [\"apple\", 3.141, \"banana\"]\n",
    "print(a, type(a))"
   ]
  },
  {
   "cell_type": "code",
   "execution_count": null,
   "metadata": {},
   "outputs": [],
   "source": [
    "# Error: statements following an if statement must be indented\n",
    "if 4 > 1:\n",
    "print(\"4 is greater than 1\")"
   ]
  },
  {
   "cell_type": "markdown",
   "metadata": {},
   "source": [
    "## Variables in Python\n",
    "Variables store values. Variable names can be as long as you want, can contain letters and numbers, but must not begin with a number or be a Python keyword (e.g., true, for, from, lambda).\n",
    "\n",
    "> **Python is case-sensitive.** unit_cost is not the same as Unit_cost. \n",
    "\n",
    "By convention variable names are lower case and use the underscore character to separate words. \n",
    "\n",
    "earnings_after_tax <br>\n",
    "default_gateway"
   ]
  },
  {
   "cell_type": "code",
   "execution_count": null,
   "metadata": {},
   "outputs": [],
   "source": [
    "# Variables are case-sensitive\n",
    "Fruit = \"apple\"\n",
    "print(fruit)\n"
   ]
  },
  {
   "cell_type": "code",
   "execution_count": null,
   "metadata": {},
   "outputs": [],
   "source": [
    "# illegal -- must not start with a number\n",
    "76trombones = 0"
   ]
  },
  {
   "cell_type": "code",
   "execution_count": null,
   "metadata": {},
   "outputs": [],
   "source": [
    "although_difficult_to_use_this_is_a_valid_variable = 1"
   ]
  },
  {
   "cell_type": "markdown",
   "metadata": {},
   "source": [
    "## Getting User Input\n",
    "\n",
    "Use variables to store input from users. To get input from the user Python provides a built-in function **input** that captures input from keyboard as a string."
   ]
  },
  {
   "cell_type": "code",
   "execution_count": null,
   "metadata": {},
   "outputs": [],
   "source": [
    "# Get card total from user and store in CardTotal \n",
    "card_total = input(\"Card total?\")\n",
    "print(\"CardTotal type is: {}\".format(type(card_total)))"
   ]
  },
  {
   "cell_type": "code",
   "execution_count": null,
   "metadata": {},
   "outputs": [],
   "source": [
    "# Error -- CardTotal is str\n",
    "if card_total > 21:\n",
    "    print(\"Busted\")\n",
    "else:\n",
    "    print(\"Hit me\")"
   ]
  },
  {
   "cell_type": "code",
   "execution_count": null,
   "metadata": {},
   "outputs": [],
   "source": [
    "# Must cast to appropriate value type (int)\n",
    "if int(card_total) > 21:\n",
    "    print(\"Busted\")\n",
    "else:\n",
    "    print(\"Hit me\")"
   ]
  },
  {
   "cell_type": "markdown",
   "metadata": {
    "toc-hr-collapsed": true
   },
   "source": [
    "## Basic Data Types in Python\n",
    "\n",
    "### Integers\n",
    "---\n",
    "A number with no fractional part. \n",
    "\n",
    "![image](/images/int-number-line.svg)\n",
    "\n",
    "#### Includes: \n",
    "* the counting numbers {1, 2, 3, ...}, \n",
    "* zero {0}, \n",
    "* and the negative of the counting numbers {-1, -2, -3, ...}\n",
    "\n",
    "We can write them all down like this: {..., -3, -2, -1, 0, 1, 2, 3, ...}\n",
    "\n",
    "Examples of integers: -16, -3, 0, 1, 198\n",
    "\n",
    "Integer size is limited only by your machine."
   ]
  },
  {
   "cell_type": "code",
   "execution_count": null,
   "metadata": {},
   "outputs": [],
   "source": [
    "bigInt = 1234568901234568901234568901234568901234564568901234568901234568901234568901234568901234568901234568900\n",
    "\n",
    "print(bigInt + 1)\n",
    "\n",
    "print(type(bigInt))"
   ]
  },
  {
   "cell_type": "markdown",
   "metadata": {},
   "source": [
    "### Float type\n",
    "* Platform dependent\n",
    "* Typically equivalent to IEEE754 64-bit C double\n",
    "* Smallest float is effectively 2.225 x 10^-308"
   ]
  },
  {
   "cell_type": "code",
   "execution_count": null,
   "metadata": {},
   "outputs": [],
   "source": [
    "type(1.0)"
   ]
  },
  {
   "cell_type": "code",
   "execution_count": null,
   "metadata": {},
   "outputs": [],
   "source": [
    "b = 2\n",
    "\n",
    "print(\"b = {} and is type {}\".format(b, type(b)))"
   ]
  },
  {
   "cell_type": "code",
   "execution_count": null,
   "metadata": {},
   "outputs": [],
   "source": [
    "b = 2 * 1.1\n",
    "\n",
    "print(\"b = {} and is type {}\".format(b, type(b)))"
   ]
  },
  {
   "cell_type": "markdown",
   "metadata": {},
   "source": [
    "### Boolean type\n",
    "---"
   ]
  },
  {
   "cell_type": "code",
   "execution_count": null,
   "metadata": {},
   "outputs": [],
   "source": [
    "is_fte = 1\n",
    "\n",
    "# Boolean values indicate True or False and must be title-case\n",
    "is_fte == True\n",
    "\n",
    "\n",
    "# Reminder: do comparisons with double = sign (x == 5)\n",
    "#    single = is assignment, let x = 5.\n",
    "is_fte == False\n"
   ]
  },
  {
   "cell_type": "code",
   "execution_count": null,
   "metadata": {},
   "outputs": [],
   "source": [
    "# Error = the boolean value must be capitalized (True, not true or TRUE)\n",
    "if is_fte = true\n"
   ]
  },
  {
   "cell_type": "markdown",
   "metadata": {},
   "source": [
    "### String Type\n",
    "A string is a sequence of characters. \n",
    "---"
   ]
  },
  {
   "cell_type": "code",
   "execution_count": null,
   "metadata": {},
   "outputs": [],
   "source": [
    "s = 'Monty Python'\n",
    "\n",
    "# use len() function to get the length of a string\n",
    "print(len(s))\n",
    "\n",
    "# Print part of a string, a slice\n",
    "print(s[0:5])\n",
    "\n",
    "print(s[6])"
   ]
  },
  {
   "cell_type": "code",
   "execution_count": null,
   "metadata": {},
   "outputs": [],
   "source": [
    "#Strings are immutable (Can't make Python to Jython)\n",
    "s[6] = \"J\""
   ]
  },
  {
   "cell_type": "markdown",
   "metadata": {},
   "source": [
    "### None type\n",
    "\n",
    "The null keyword is available in languages such as C++ and Java. Null means empty. It is not equivalent to a zero-length string nor is it equivalent to zero (0). In Python, the None type  is the keyword equivalent to Null. None (the type) is not equivalent to the string, \"None\". In my humble opinion, None is more logical than null. None means the object is nothing, non-existent. \n",
    "\n",
    "#### Why use None?\n",
    "\n",
    "When instantiating (creating) an object, you may need to check to see if the instantiation was successful or not. If the creation of the new object failed, the object will return a None type.\n",
    "\n",
    "---"
   ]
  },
  {
   "cell_type": "code",
   "execution_count": null,
   "metadata": {},
   "outputs": [],
   "source": [
    "print(None == \"None\")\n",
    "print(type(None))"
   ]
  },
  {
   "cell_type": "code",
   "execution_count": null,
   "metadata": {},
   "outputs": [],
   "source": [
    "#Source: https://www.pythoncentral.io/python-null-equivalent-none/\n",
    "database_connection = None\n",
    " \n",
    "# Try to connect (none of the variables for the connect have values...)\n",
    "try:\n",
    "    database = MyDatabase(db_host, db_user, db_password, db_database)\n",
    "    database_connection = database.connect()\n",
    "except:\n",
    "    pass\n",
    " \n",
    "if database_connection is None:\n",
    "    print('The database could not connect')\n",
    "else:\n",
    "    print('The database could connect')"
   ]
  },
  {
   "cell_type": "markdown",
   "metadata": {},
   "source": [
    "### Complex numbers\n",
    "---\n",
    "A Complex Number is a combination of a Real Number and an Imaginary Number. [1]\n",
    "\n",
    "![image](/images/complex-example.svg)\n",
    "\n",
    "   "
   ]
  },
  {
   "cell_type": "code",
   "execution_count": null,
   "metadata": {},
   "outputs": [],
   "source": [
    "print(\"3i is of type: \" + str(type(3j)))\n",
    "print(7 + 3j)"
   ]
  },
  {
   "cell_type": "markdown",
   "metadata": {},
   "source": [
    "   \n",
    "The \"unit\" imaginary number (like 1 for Real Numbers) is i, which is the square root of −1.   \n",
    "\n",
    "![image](/images/imaginary-square-root.svg)\n",
    "\n",
    "> **Except in Python, \"j\" is used instead of \"i\".**"
   ]
  },
  {
   "cell_type": "code",
   "execution_count": null,
   "metadata": {},
   "outputs": [],
   "source": [
    "1j * 1j == -1"
   ]
  },
  {
   "cell_type": "markdown",
   "metadata": {},
   "source": [
    "## Converting values between types\n",
    "\n",
    "Often you may need to convert from values from one type to another. For example, you may need to convert the values received from the input() function from string to an int or a float."
   ]
  },
  {
   "cell_type": "code",
   "execution_count": null,
   "metadata": {},
   "outputs": [],
   "source": [
    "user_number = input(\"Enter a number and I'll tell you if it is even or odd:\\n\")\n",
    "print(type(int(user_number)))\n"
   ]
  },
  {
   "cell_type": "markdown",
   "metadata": {},
   "source": [
    "## Mandelbrot set\n",
    "What exactly is a Mandelbrot set?\n",
    "The term Mandelbrot set is used to refer both to a general class of fractal sets and to a particular instance of such a set. In general, a Mandelbrot set marks the set of points in the complex plane such that the corresponding Julia set is connected and not computable. (source: mathworld.wolfram.net)\n",
    "\n",
    "![image](\\images\\220px-Mandelbrot_sequence_new.gif)"
   ]
  },
  {
   "cell_type": "code",
   "execution_count": null,
   "metadata": {},
   "outputs": [],
   "source": [
    "#Source: https://gist.github.com/jfpuget/60e07a82dece69b011bb -- Jean-François Puget¶\n",
    "\n",
    "import numpy as np\n",
    "from matplotlib import pyplot as plt\n",
    "from matplotlib import colors\n",
    "%matplotlib inline \n",
    "\n",
    "\n",
    "def mandelbrot_image(xmin,xmax,ymin,ymax,width=12,height=12,maxiter=80,cmap='hot'):\n",
    "    dpi = 72\n",
    "    img_width = dpi * width\n",
    "    img_height = dpi * height\n",
    "    x,y,z = mandelbrot_set(xmin,xmax,ymin,ymax,img_width,img_height,maxiter)\n",
    "    \n",
    "    fig, ax = plt.subplots(figsize=(width, height),dpi=72)\n",
    "    ticks = np.arange(0,img_width,3*dpi)\n",
    "    x_ticks = xmin + (xmax-xmin)*ticks/img_width\n",
    "    plt.xticks(ticks, x_ticks)\n",
    "    y_ticks = ymin + (ymax-ymin)*ticks/img_width\n",
    "    plt.yticks(ticks, y_ticks)\n",
    "    \n",
    "    norm = colors.PowerNorm(0.3)\n",
    "    ax.imshow(z.T,cmap=cmap,origin='lower',norm=norm)\n",
    "    \n",
    "def mandelbrot(c,maxiter):\n",
    "    z = c\n",
    "    for n in range(maxiter):\n",
    "        if abs(z) > 2:\n",
    "            return n\n",
    "        z = z*z + c\n",
    "    return 0\n",
    "\n",
    "def mandelbrot_set(xmin,xmax,ymin,ymax,width,height,maxiter):\n",
    "    r1 = np.linspace(xmin, xmax, width)\n",
    "    r2 = np.linspace(ymin, ymax, height)\n",
    "    n3 = np.empty((width,height))\n",
    "    for i in range(width):\n",
    "        for j in range(height):\n",
    "            n3[i,j] = mandelbrot(r1[i] + 1j*r2[j],maxiter)\n",
    "    return (r1,r2,n3)\n",
    "\n",
    "mandelbrot_image(-2.0,0.5,-1.25,1.25,maxiter=80,cmap='gnuplot2')"
   ]
  },
  {
   "cell_type": "markdown",
   "metadata": {},
   "source": [
    "## Order of Operations\n",
    "<a id=\"Setting_up_your_environment\"> </a>\n",
    "\n",
    "The order of evaluation of expressions with more than one operator follows *rules of precedence* -- PEMDAS\n",
    "\n",
    "* **Parentheses**\n",
    "* **Exponentiation**\n",
    "* **Multiplication and Division**\n",
    "* **Addition and Subraction**\n",
    "* **Left to Right** - operators with the same precedence are evaluated left to right"
   ]
  },
  {
   "cell_type": "code",
   "execution_count": null,
   "metadata": {},
   "outputs": [],
   "source": [
    "# Exponentiation, then Multiplication\n",
    "3*1**3"
   ]
  },
  {
   "cell_type": "markdown",
   "metadata": {
    "toc-hr-collapsed": true
   },
   "source": [
    "## Modulus operator\n",
    "<a id=\"modulus_operator\"> </a>\n",
    "\n",
    "In computing, the modulo operation finds the remainder after division of one number by another (sometimes called modulus). Given two positive numbers, a (the dividend) and n (the divisor), a modulo n (abbreviated as a mod n) is the remainder of the Euclidean division of a by n.\n"
   ]
  },
  {
   "cell_type": "code",
   "execution_count": null,
   "metadata": {},
   "outputs": [],
   "source": [
    "# Divide 7 by 3\n",
    "7/3"
   ]
  },
  {
   "cell_type": "code",
   "execution_count": null,
   "metadata": {},
   "outputs": [],
   "source": [
    "# Return the quotient\n",
    "7//3"
   ]
  },
  {
   "cell_type": "code",
   "execution_count": null,
   "metadata": {},
   "outputs": [],
   "source": [
    "# Return the remainder\n",
    "7 % 3"
   ]
  },
  {
   "cell_type": "markdown",
   "metadata": {},
   "source": [
    "## Assignment vs. Comparison\n",
    "---\n",
    "### In Python, assignment of a value to a variable is accomplished using a single equal sign.  \n"
   ]
  },
  {
   "cell_type": "code",
   "execution_count": null,
   "metadata": {},
   "outputs": [],
   "source": [
    "x = 7\n",
    "print(x)\n",
    "x = 1000\n",
    "print(x)"
   ]
  },
  {
   "cell_type": "markdown",
   "metadata": {},
   "source": [
    "### Comparison is performed using a double equal sign."
   ]
  },
  {
   "cell_type": "code",
   "execution_count": null,
   "metadata": {},
   "outputs": [],
   "source": [
    "# Must use a double equal sign to compare values\n",
    "if x == 7:\n",
    "    print(\"Lucky Seven\")\n",
    "else:\n",
    "    print(\"You lose!\")"
   ]
  },
  {
   "cell_type": "code",
   "execution_count": null,
   "metadata": {},
   "outputs": [],
   "source": [
    "# Error when adding string and integer\n",
    "userinput = \"5\"\n",
    "\n",
    "sum = 7 + int(userinput)\n",
    "print(sum)"
   ]
  },
  {
   "cell_type": "code",
   "execution_count": null,
   "metadata": {},
   "outputs": [],
   "source": [
    "sum = 7 + int(userinput)\n",
    "print(\"sum = {}\".format(sum))"
   ]
  },
  {
   "cell_type": "markdown",
   "metadata": {},
   "source": [
    "Style guide - http://www.voidspace.org.uk/python/articles/python_style_guide.shtml\n"
   ]
  },
  {
   "cell_type": "markdown",
   "metadata": {},
   "source": [
    "[1]: Source: https://www.mathsisfun.com"
   ]
  },
  {
   "cell_type": "markdown",
   "metadata": {
    "toc-hr-collapsed": true
   },
   "source": [
    "# Conditional execution\n",
    "\n",
    "In Python, use the if statement to perform decision-making by allowing conditional execution of a statement or group of statements based on the value of an expression."
   ]
  },
  {
   "cell_type": "code",
   "execution_count": null,
   "metadata": {},
   "outputs": [],
   "source": [
    "CardTotal = 20\n",
    "if CardTotal > 21:\n",
    "    print(\"busted!\")"
   ]
  },
  {
   "cell_type": "markdown",
   "metadata": {},
   "source": [
    "You can use an if statement to execute a set of statements based on whether the value of a variable is even or odd.\n",
    "\n",
    "![image](/images/if-then-elselogic.jpg)\n",
    "\n",
    "The basic if statement form:\n",
    "\n",
    "if expr: <br>\n",
    "    ''statement''"
   ]
  },
  {
   "cell_type": "code",
   "execution_count": null,
   "metadata": {},
   "outputs": [],
   "source": [
    "x = 9\n",
    "\n",
    "if x%2 == 0:\n",
    "    print('x is even')\n",
    "else:\n",
    "    print('x is odd')"
   ]
  },
  {
   "cell_type": "markdown",
   "metadata": {},
   "source": [
    "## Conditionals with multiple expressions\n"
   ]
  },
  {
   "cell_type": "code",
   "execution_count": null,
   "metadata": {},
   "outputs": [],
   "source": [
    "shave = True\n",
    "haircut = True\n",
    "\n",
    "if shave and haircut:\n",
    "    print(\"You know the secret knock!\")\n",
    "else:\n",
    "    print(\"You're not one of us.\")"
   ]
  },
  {
   "cell_type": "code",
   "execution_count": null,
   "metadata": {},
   "outputs": [],
   "source": [
    "#BOTH statements must be true to satisfy the statement and print True\n",
    "if 1 < 10 and -2 > -7:\n",
    "    print(True)\n",
    "else:\n",
    "    print(False)"
   ]
  },
  {
   "cell_type": "code",
   "execution_count": null,
   "metadata": {},
   "outputs": [],
   "source": [
    "#Only ONE expressopm must be true to satisfy the statement and print True\n",
    "if 100 < 10 or -2 > -7:\n",
    "    print(True)\n",
    "else:\n",
    "    print(False)"
   ]
  },
  {
   "cell_type": "markdown",
   "metadata": {},
   "source": [
    "## Chained Conditionals\n",
    "\n",
    "If more then two possibilities exist, one way to programmatically express this is using elif."
   ]
  },
  {
   "cell_type": "code",
   "execution_count": null,
   "metadata": {},
   "outputs": [],
   "source": [
    "x = 2\n",
    "y = 3\n",
    "\n",
    "if x > y:\n",
    "    print(\"x is greater than y\")\n",
    "elif y > x:\n",
    "    print(\"y is greater than x\")\n",
    "else:\n",
    "    print(\"x and y are equal\")"
   ]
  },
  {
   "cell_type": "markdown",
   "metadata": {
    "toc-hr-collapsed": false
   },
   "source": [
    "## Nested Conditionals\n",
    "\n",
    "You can also nest one conditional inside another conditional. Consider the previous example:"
   ]
  },
  {
   "cell_type": "code",
   "execution_count": null,
   "metadata": {},
   "outputs": [],
   "source": [
    "if x == y:\n",
    "    print(\"x and y are equal\")\n",
    "else:\n",
    "    if x < y:\n",
    "        print(\"x is less than y\")\n",
    "    else:\n",
    "        print(\"x is greater than y\")"
   ]
  },
  {
   "cell_type": "markdown",
   "metadata": {},
   "source": [
    "> ### No Switch or Select Statement in Python\n",
    "> In some cases a dictionary structure could be useful to replace a switch statement. "
   ]
  },
  {
   "cell_type": "markdown",
   "metadata": {},
   "source": [
    "## Grouping comparison operators\n",
    "Comparison operators can be grouped."
   ]
  },
  {
   "cell_type": "code",
   "execution_count": null,
   "metadata": {},
   "outputs": [],
   "source": [
    "x = 111\n",
    "if 0 < x < 10:\n",
    "    print(\"x is a positive single-digit number\")\n",
    "elif x < 0:\n",
    "    print(\"x is a negative number\")\n",
    "elif x >= 10:\n",
    "    print(\"x is a positive two-digit number\")"
   ]
  },
  {
   "cell_type": "code",
   "execution_count": null,
   "metadata": {},
   "outputs": [],
   "source": [
    "x = 1\n",
    "y = 2\n",
    "z = 6\n",
    "\n",
    "# The entire expression must be true to print values\n",
    "if x < y < z: print(x); print(y); print(z)"
   ]
  },
  {
   "cell_type": "markdown",
   "metadata": {},
   "source": [
    "## Catching exceptions using try and except\n",
    "\n",
    "Robust programs anticipate and gracefully handle unexpected situations and errors. For example, when asking a user to input a number, a robust program gracefully handles unexpected or erroneous input. Another examples include attempting to open a file or connect to a database."
   ]
  },
  {
   "cell_type": "code",
   "execution_count": null,
   "metadata": {},
   "outputs": [],
   "source": [
    "#Source: https://www.pythoncentral.io/python-null-equivalent-none/\n",
    "database_connection = None\n",
    " \n",
    "# Try to connect (none of the variables for the connect have values...)\n",
    "try:\n",
    "    database = MyDatabase(db_host, db_user, db_password, db_database)\n",
    "    database_connection = database.connect()\n",
    "except:\n",
    "    pass\n",
    " \n",
    "if database_connection is None:\n",
    "    print('The database could not connect')\n",
    "else:\n",
    "    print('The database could connect')"
   ]
  },
  {
   "cell_type": "markdown",
   "metadata": {},
   "source": [
    "## Operators and Operands\n",
    "<a id=\"operators_and_operands\"> </a>\n",
    "Operators are special symbols that represent computations like addition and multiplication. The values the operator is applied to are called operands.\n",
    "The operators +, -, *, /, and ** perform addition, subtraction, multiplication, division, and exponentiation, as in the following examples:\n"
   ]
  },
  {
   "cell_type": "code",
   "execution_count": null,
   "metadata": {},
   "outputs": [],
   "source": [
    "#Addition and subtraction\n",
    "20+33-10"
   ]
  },
  {
   "cell_type": "code",
   "execution_count": null,
   "metadata": {},
   "outputs": [],
   "source": [
    "# Five squared\n",
    "5**2"
   ]
  },
  {
   "cell_type": "code",
   "execution_count": null,
   "metadata": {},
   "outputs": [],
   "source": [
    "# Multiplication\n",
    "(3+2)*(9+2)"
   ]
  },
  {
   "cell_type": "code",
   "execution_count": null,
   "metadata": {},
   "outputs": [],
   "source": [
    "# Division\n",
    "100/25"
   ]
  },
  {
   "cell_type": "markdown",
   "metadata": {
    "toc-hr-collapsed": true
   },
   "source": [
    "# Iteration\n",
    "Computers are very good and doing repetitive tasks. You will use iteration for many operations in Python. For example, you may loop through records in a database or examine lines in text file. \n",
    "\n",
    "Two methods for iterating are the whiel statement and the For loop."
   ]
  },
  {
   "cell_type": "markdown",
   "metadata": {},
   "source": [
    "## While statement\n"
   ]
  },
  {
   "cell_type": "code",
   "execution_count": null,
   "metadata": {},
   "outputs": [],
   "source": [
    "n = 0\n",
    "while n < 7:\n",
    "    print(\"day \" + str(n))\n",
    "    n = n + 1"
   ]
  },
  {
   "cell_type": "markdown",
   "metadata": {
    "toc-hr-collapsed": true
   },
   "source": [
    "## For Loop"
   ]
  },
  {
   "cell_type": "code",
   "execution_count": null,
   "metadata": {},
   "outputs": [],
   "source": [
    "# Range function (see \"Functions\" section for more information about functions)\n",
    "# range(start_value, end_value, step_value)\n",
    "\n",
    "for x in range(0,11):\n",
    "    print(x, end=\",\")"
   ]
  },
  {
   "cell_type": "code",
   "execution_count": null,
   "metadata": {},
   "outputs": [],
   "source": [
    "# To count down, set the step value to negative\n",
    "for x in range(10,0,-1):\n",
    "    print(x, end=\" \")"
   ]
  },
  {
   "cell_type": "markdown",
   "metadata": {},
   "source": [
    "Adding a counter variable"
   ]
  },
  {
   "cell_type": "code",
   "execution_count": null,
   "metadata": {},
   "outputs": [],
   "source": [
    "#Define z. Set it to 0.\n",
    "z = 0\n",
    "\n",
    "#Loop ten times (1 through 10)\n",
    "for y in range(1,11):\n",
    "\n",
    "    #Increment z by 1 during each loop. \n",
    "    z += 1 # This is shorthand for z = z + 1\n",
    "    \n",
    "    print(z)"
   ]
  },
  {
   "cell_type": "code",
   "execution_count": null,
   "metadata": {},
   "outputs": [],
   "source": []
  },
  {
   "cell_type": "markdown",
   "metadata": {},
   "source": [
    "# List Comprehensions\n",
    "\n",
    "List comprehensions are a compact method to build lists using a single line of code. \n",
    "\n",
    "Basic syntax\n",
    "```python\n",
    "[ expr for item in iterable ]\n",
    "```\n",
    "\n",
    "Instead of:"
   ]
  },
  {
   "cell_type": "code",
   "execution_count": null,
   "metadata": {},
   "outputs": [],
   "source": [
    "# Traditional method to load a list\n",
    "L = []\n",
    "for n in range(12):\n",
    "    L.append(n ** 2)\n",
    "print(L)"
   ]
  },
  {
   "cell_type": "code",
   "execution_count": null,
   "metadata": {},
   "outputs": [],
   "source": [
    "# Use a List Comprehension\n",
    "[n ** 2 for n in range(12)]"
   ]
  },
  {
   "cell_type": "markdown",
   "metadata": {
    "toc-hr-collapsed": true
   },
   "source": [
    "# Functions\n",
    "A function is a discrete set of instructions typically designed to receive one or more values and return a value. A function call receives values called \"arguments\" and it \"returns\" a value. "
   ]
  },
  {
   "cell_type": "markdown",
   "metadata": {},
   "source": [
    "## Built-in functions\n",
    "The print() function takes an argument and sends output to the console.\n",
    "\n",
    "The type() function takes a value or object and returns its type."
   ]
  },
  {
   "cell_type": "code",
   "execution_count": null,
   "metadata": {},
   "outputs": [],
   "source": [
    "# Print and Type functions \n",
    "\n",
    "print(type(3.141))"
   ]
  },
  {
   "cell_type": "code",
   "execution_count": null,
   "metadata": {},
   "outputs": [],
   "source": [
    "# Print the highest value letter\n",
    "print(max(\"Hello world\"))\n",
    "print(f\"w= {ord('w')}\")\n",
    "print(f\"o= {ord('o')}\")\n"
   ]
  },
  {
   "cell_type": "code",
   "execution_count": null,
   "metadata": {},
   "outputs": [],
   "source": [
    "# Display the lowest value\n",
    "min(\"Hello world\")"
   ]
  },
  {
   "cell_type": "code",
   "execution_count": null,
   "metadata": {},
   "outputs": [],
   "source": [
    "#Display the number of characters\n",
    "len('Hello world')"
   ]
  },
  {
   "cell_type": "markdown",
   "metadata": {},
   "source": [
    "## Type Converstion Functions\n",
    "\n",
    "Python includes functions to convert values from one data type to another. \n",
    "\n",
    "For example, when requesting a number value from a user you may need to convert the resulting string input to an number type such as int."
   ]
  },
  {
   "cell_type": "code",
   "execution_count": null,
   "metadata": {},
   "outputs": [],
   "source": [
    "# Input values are strings. Convert strings to appropriate number type, if necessary.\n",
    "# Enter decimal value....error.\n",
    "\n",
    "tirepressure = int(input(\"Input current tire pressure:\"))\n",
    "\n",
    "if tirepressure < 32:\n",
    "    print(\"Add air to tire.\")\n",
    "else:\n",
    "    print(f\"At {tirepressure} psi the tire does not require additional air pressure.\")"
   ]
  },
  {
   "cell_type": "markdown",
   "metadata": {
    "toc-hr-collapsed": true
   },
   "source": [
    "## Misc Functions\n",
    "Below are common functions and explanations of how they work and when you might use them."
   ]
  },
  {
   "cell_type": "markdown",
   "metadata": {},
   "source": [
    "### Generating random numbers\n",
    "To generate random numbers, use the random module. Note that this module is not designed for cryptographic use. "
   ]
  },
  {
   "cell_type": "code",
   "execution_count": null,
   "metadata": {},
   "outputs": [],
   "source": [
    "import random\n",
    "\n",
    "# Print 10 numbers between 1 and 100 (inclusive)\n",
    "for x in range(10):\n",
    "  print(x,random.randint(1,101))"
   ]
  },
  {
   "cell_type": "markdown",
   "metadata": {},
   "source": [
    "## Creating your own Functions\n",
    "Use the def keyword to define custom functions. Empty parentheses following the function name indicate the function takes no arguments."
   ]
  },
  {
   "cell_type": "code",
   "execution_count": null,
   "metadata": {},
   "outputs": [],
   "source": [
    "def print_lyrics():\n",
    "    \"\"\" Prints lumberjack lyrics! \"\"\"\n",
    "    print(\"I'm a lumberjack and I'm okay.\")\n",
    "    \n",
    "def repeat_lyrics():\n",
    "    print_lyrics()\n",
    "    print_lyrics()\n",
    "    \n",
    "repeat_lyrics()"
   ]
  },
  {
   "cell_type": "markdown",
   "metadata": {},
   "source": [
    "## Docstrings\n",
    "Docstrings (documentation strings) provide a helpful and convenient method of\n",
    "displaying documentation with Python modules, functions, classes, and methods. \n",
    "\n",
    "An object's docsting is defined by including a string constant as the first\n",
    "statement in the object's definition and can be viewed by calling help(function)."
   ]
  },
  {
   "cell_type": "code",
   "execution_count": null,
   "metadata": {},
   "outputs": [],
   "source": [
    "help(print_lyrics)"
   ]
  },
  {
   "cell_type": "markdown",
   "metadata": {},
   "source": [
    "## Passing values\n",
    "Functions defined with arguments accept values. "
   ]
  },
  {
   "cell_type": "code",
   "execution_count": null,
   "metadata": {},
   "outputs": [],
   "source": [
    "def print_stuff(mystuff):\n",
    "    \"\"\" Prints the string passed to it. \"\"\"\n",
    "    print(mystuff)\n",
    "    \n",
    "newstuff = \"really cool stuff\"\n",
    "print_stuff(newstuff)"
   ]
  },
  {
   "cell_type": "markdown",
   "metadata": {},
   "source": [
    "## Accessing functions in modules\n",
    "\n",
    "One of the strengths of the Python language is the large number of modules available to it. To add functionality to your program, you make modules available using the import keyword. Below we import the math module and the random module.\n"
   ]
  },
  {
   "cell_type": "code",
   "execution_count": null,
   "metadata": {},
   "outputs": [],
   "source": [
    "# Get colume of a sphere using radius (r)\n",
    "\n",
    "import math\n",
    "\n",
    "def get_sphere_volume(r):\n",
    "    \"\"\"Returns volume of a sphere given the radius (r).\"\"\"\n",
    "    volume = (4/3) * math.pi * r**3\n",
    "    return volume\n",
    "\n",
    "#Call the function to find the volume of a sphere with a radius of 2.\n",
    "get_sphere_volume(2)\n",
    "\n"
   ]
  },
  {
   "cell_type": "code",
   "execution_count": null,
   "metadata": {},
   "outputs": [],
   "source": [
    "#What other functions are available in the math module? Use the dir() function to list a directory of math attributes.\n",
    "dir(math)"
   ]
  },
  {
   "cell_type": "markdown",
   "metadata": {},
   "source": [
    "## Void and Return Functions\n",
    "PY4E calls functions that return values \"fruitful.\" Functions that do not return values are void functions."
   ]
  },
  {
   "cell_type": "code",
   "execution_count": null,
   "metadata": {},
   "outputs": [],
   "source": [
    "def addtwo(a,b):\n",
    "    \"\"\" Returns the sum of two numbers.\"\"\"\n",
    "    added = a + b\n",
    "    return added\n",
    "\n",
    "x = addtwo(7,6)\n",
    "print(x)"
   ]
  },
  {
   "cell_type": "code",
   "execution_count": null,
   "metadata": {},
   "outputs": [],
   "source": [
    "help(addtwo)"
   ]
  },
  {
   "cell_type": "markdown",
   "metadata": {},
   "source": [
    "## Currency and date formatting\n",
    "Because currency and date formats vary by locale, a recommended way of formatting currency and dates is to use the locale module. This module accesses the locale of your current system and applies it to format values."
   ]
  },
  {
   "cell_type": "code",
   "execution_count": null,
   "metadata": {},
   "outputs": [],
   "source": [
    "import locale\n",
    "import datetime\n",
    "\n",
    "#Sets locale for all categories to the user's default setting\n",
    "locale.setlocale(locale.LC_ALL, '')\n",
    "\n",
    "#To add commas, set grouping = True\n",
    "print(locale.currency(100000.55977, grouping=True))\n",
    "\n",
    "today = datetime.date.today()\n",
    "print(today)"
   ]
  },
  {
   "cell_type": "code",
   "execution_count": null,
   "metadata": {},
   "outputs": [],
   "source": [
    "dir(datetime)"
   ]
  },
  {
   "cell_type": "code",
   "execution_count": null,
   "metadata": {},
   "outputs": [],
   "source": [
    "#Source: https://www.programiz.com/python-programming/datetime#datetime\n",
    "now = datetime.datetime.now() # current date and time\n",
    "\n",
    "year = now.strftime(\"%Y\")\n",
    "print(\"year:\", year)\n",
    "\n",
    "month = now.strftime(\"%m\")\n",
    "print(\"month:\", month)\n",
    "\n",
    "day = now.strftime(\"%d\")\n",
    "print(\"day:\", day)\n",
    "\n",
    "time = now.strftime(\"%H:%M:%S\")\n",
    "print(\"time:\", time)\n",
    "\n",
    "date_time = now.strftime(\"%m/%d/%Y, %H:%M:%S\")\n",
    "print(\"date and time:\",date_time)\t"
   ]
  },
  {
   "cell_type": "code",
   "execution_count": null,
   "metadata": {},
   "outputs": [],
   "source": [
    "#Source: https://www.programiz.com/python-programming/datetime#datetime\n",
    "\n",
    "from datetime import datetime, date\n",
    "\n",
    "t1 = date(year = 2018, month = 7, day = 12)\n",
    "t2 = date(year = 2017, month = 12, day = 23)\n",
    "t3 = t1 - t2\n",
    "print(\"t3 =\", t3)\n",
    "\n",
    "t4 = datetime(year = 2019, month = 1, day = 12, hour = 7, minute = 9, second = 33)\n",
    "t5 = datetime(year = 2019, month = 12, day = 25, hour = 5, minute = 55, second = 13)\n",
    "t6 = t5 - t4\n",
    "print(\"t6 =\", t6)\n",
    "\n",
    "print(\"type of t3 =\", type(t3)) \n",
    "print(\"type of t6 =\", type(t6))"
   ]
  },
  {
   "cell_type": "markdown",
   "metadata": {},
   "source": [
    "## Using Keyword (default) and required arguments"
   ]
  },
  {
   "cell_type": "code",
   "execution_count": null,
   "metadata": {},
   "outputs": [],
   "source": [
    "# Function using keyword and default arguments\n",
    "def calc_tip(amount, percentage = .15):\n",
    "    \"\"\" Calculate a tip based on an amount. 15% is default. \"\"\"\n",
    "    tip = amount * percentage\n",
    "    return tip\n",
    "\n",
    "print(calc_tip(10))\n",
    "\n",
    "print(calc_tip(20, percentage = .25))"
   ]
  },
  {
   "cell_type": "markdown",
   "metadata": {
    "toc-hr-collapsed": true
   },
   "source": [
    "# String Operations\n",
    "Text in Python is represented by a string. A string is a sequence of characters. It is a derived data type. Strings are immutable. This means that once defined, they cannot be changed.\n",
    "\n",
    "You can access characters one at a time using the bracket [] operator.\n",
    "\n",
    "You may use either single, double-quotes, or triple quotes. Use double or triple quotes when a string contains a single apostrophe, double apostrophe or both.\n"
   ]
  },
  {
   "cell_type": "markdown",
   "metadata": {
    "toc-hr-collapsed": true
   },
   "source": [
    "## Using single, double, and triple quotes"
   ]
  },
  {
   "cell_type": "code",
   "execution_count": null,
   "metadata": {},
   "outputs": [],
   "source": [
    "#Double quotes specifies a string.\n",
    "statement = \"I'm a Python programmer.\"\n",
    "\n",
    "#Single quotes also specify a string. Triple quotes, too.\n",
    "howdy = 'hello, world!'\n",
    "print(howdy)\n",
    "\n",
    "#To print quotes, you canuse the escape character (\\)\n",
    "as_good_as_it_gets = 'Sell crazy someplace else. We\\'re all stocked up here.'\n",
    "print(as_good_as_it_gets)\n",
    "\n",
    "#Tripe quotes are helpful when you want to display single or double quotes within a string without using an escape character.\n",
    "cannoli = \"\"\"Clamenza said, \"Leave the gun, take the cannoli.\" It's one of my 'fav' movie quotes.\"\"\" \n",
    "print(cannoli)\n",
    "\n",
    "\n"
   ]
  },
  {
   "cell_type": "markdown",
   "metadata": {
    "toc-hr-collapsed": true
   },
   "source": [
    "## String Capitalization"
   ]
  },
  {
   "cell_type": "code",
   "execution_count": null,
   "metadata": {},
   "outputs": [],
   "source": [
    "# Capitalize the first word\n",
    "print(howdy.capitalize())"
   ]
  },
  {
   "cell_type": "code",
   "execution_count": null,
   "metadata": {},
   "outputs": [],
   "source": [
    "# Capitalize each word\n",
    "print(howdy.title())\n",
    "print(\"this is title case\".title())"
   ]
  },
  {
   "cell_type": "code",
   "execution_count": null,
   "metadata": {},
   "outputs": [],
   "source": [
    "# Capitalize each word\n",
    "print(howdy.upper())\n",
    "print(\"this is all capps\".upper())\n",
    "\n",
    "#Use upper() to compare strings ignoring case\n",
    "myfavfruit = \"Kiwi\"\n",
    "\n",
    "if myfavfruit.upper() == \"KIWI\":\n",
    "    print(\"That's my fav!\")\n",
    "else:\n",
    "    print(\"Not my fav\")"
   ]
  },
  {
   "cell_type": "code",
   "execution_count": null,
   "metadata": {},
   "outputs": [],
   "source": [
    "book_title = \"THE UNOFFICIAL GUIDE TO ETHICAL HACKING\"\n",
    "\n",
    "# Lowercase\n",
    "print(book_title.lower())"
   ]
  },
  {
   "cell_type": "code",
   "execution_count": null,
   "metadata": {},
   "outputs": [],
   "source": [
    "# Store the string \"banana\" in the favorite_fruit variable. \n",
    "favorite_fruit = \"banana\"\n",
    "\n",
    "# A string is essentially an array of characters and you may access them like you would an array.\n",
    "print(favorite_fruit)\n",
    "print(favorite_fruit[0])\n",
    "print(favorite_fruit[0:2])"
   ]
  },
  {
   "cell_type": "code",
   "execution_count": null,
   "metadata": {},
   "outputs": [],
   "source": [
    "# Strings are immutable. Unlike a typical array, you may NOT modify the items (characters) in the array.\n",
    "# Rather than changing the first letter from 'b' to 'B', this code results in an error.\n",
    "favorite_fruit[0] = 'B'"
   ]
  },
  {
   "cell_type": "code",
   "execution_count": null,
   "metadata": {},
   "outputs": [],
   "source": [
    "print(favorite_fruit)\n",
    "\n",
    "# You can, however, replace the string value (e.g., \"banana\") with something else (e.g, \"apple\")\n",
    "favorite_fruit = \"apple\"\n",
    "\n",
    "print(favorite_fruit)"
   ]
  },
  {
   "cell_type": "markdown",
   "metadata": {},
   "source": [
    "## String Concatenation\n",
    "\n",
    "Use the '+' operator to join strings."
   ]
  },
  {
   "cell_type": "code",
   "execution_count": null,
   "metadata": {},
   "outputs": [],
   "source": [
    "first_name = \"Gregory\"\n",
    "middle_initial = \"J\"\n",
    "last_name = \"Bott\"\n",
    "\n",
    "full_name = first_name + \" \" + middle_initial + \" \" + last_name + \", Ph.D.\"\n",
    "print(full_name)"
   ]
  },
  {
   "cell_type": "markdown",
   "metadata": {},
   "source": [
    "## Removing white space\n",
    "A common task when working with data is to remove white space (spaces, tabs, newlines) from the beginning and end of a string. to remove white space use the **strip** method."
   ]
  },
  {
   "cell_type": "code",
   "execution_count": null,
   "metadata": {},
   "outputs": [],
   "source": [
    "# value is preceded by three tabs and followed by a line break\n",
    "data_column = \"\\t\\t\\t 133422.88\\n\"\n",
    "print(str(data_column) + \"[end]\")\n",
    "\n",
    "#tabs and the line break are stripped from the string\n",
    "print(data_column.strip() + \"[end]\")"
   ]
  },
  {
   "cell_type": "markdown",
   "metadata": {},
   "source": [
    "## Format Operator\n",
    "To substitute values from variables or functions into a string, use the *format operator* %. \n",
    "\n",
    "Do not confuse % with modulus operator. In the statement, 4 % 2 = 0 '%' is the modulus operator. \n",
    "\n",
    "Instead of using the % operator between integers as in the modulus operator, the *format operator* is used within a string.\n",
    "<br>%d = signed integer decimal\n",
    "<br>%s = string\n",
    "<br>%f = float\n",
    "\n",
    "For more conversion types go to https://docs.python.org/3/library/stdtypes.html#old-string-formatting"
   ]
  },
  {
   "cell_type": "code",
   "execution_count": null,
   "metadata": {},
   "outputs": [],
   "source": [
    "b_of_b_on_wall = 99\n",
    "beverage = \"beer\"\n",
    "\n",
    "for bottle_num in range(100,0,-1):\n",
    "    print(\"%d bottles of %s on the wall, %d bottles of %s.\" % (bottle_num, beverage, bottle_num, beverage))\n",
    "    print(\"Take one down and pass it around, %d bottles of %s on the wall.\" % (int(bottle_num)-1, beverage))\n",
    "    "
   ]
  },
  {
   "cell_type": "markdown",
   "metadata": {},
   "source": [
    "## Using str.format()\n",
    "The format operator is a good option, but when you have multiple placeholders in a string, code becomes less readable. \n",
    "\n",
    "One advantage of the str.format() method is that you can use the replacement fields in any order. Simply use their index values."
   ]
  },
  {
   "cell_type": "code",
   "execution_count": null,
   "metadata": {},
   "outputs": [],
   "source": [
    "name = \"Greg\"\n",
    "age = \"82\"\n",
    "\n",
    "print(\"Hello, {}. You are {}.\".format(name, age))"
   ]
  },
  {
   "cell_type": "code",
   "execution_count": null,
   "metadata": {},
   "outputs": [],
   "source": [
    "name = \"Greg\"\n",
    "age = \"82\"\n",
    "\n",
    "#Reference index to use out of sequence order.\n",
    "print(\"Hello, {1}. You are {0}.\".format(age, name))"
   ]
  },
  {
   "cell_type": "code",
   "execution_count": null,
   "metadata": {},
   "outputs": [],
   "source": [
    "# Use dictionary values\n",
    "person = {'name': 'Greg', 'age': 82}\n",
    "print(\"Hello, {name}. You are {age}.\".format(**person))"
   ]
  },
  {
   "cell_type": "markdown",
   "metadata": {},
   "source": [
    "## Using f-Strings\n",
    "Beginning with Python 3.6, you can use f-strings (\"formatting string literals\"). The syntax for f-Strings is similar to str.format() but results in more readable code."
   ]
  },
  {
   "cell_type": "code",
   "execution_count": null,
   "metadata": {},
   "outputs": [],
   "source": [
    "name = \"Greg\"\n",
    "age = \"82\"\n",
    "\n",
    "print(f\"Hello, {name}. You are {age}.\")"
   ]
  },
  {
   "cell_type": "markdown",
   "metadata": {},
   "source": [
    "## Splitting and Joining strings"
   ]
  },
  {
   "cell_type": "code",
   "execution_count": null,
   "metadata": {},
   "outputs": [],
   "source": [
    "# Below is a database record exported using the pipe symbol (\"|\") to seprate fields\n",
    "exported_record = \"Quin J. Alford|Proin Company|Ap #664-5782 Felis St.|Butte|35565|MT|-72.72653, -167.07764|4716 4071 8086 1415|436|eu@pellentesque.net\"\n",
    "print(\"original data:\")\n",
    "print(exported_record)\n",
    "print()\n",
    "\n",
    "#Split the data at each pipe symbol. The result of the split function is a Python list (essentially an array)\n",
    "exported_record = exported_record.split(\"|\")\n",
    "print(\"converted to a list: \")\n",
    "print(exported_record)\n",
    "print()"
   ]
  },
  {
   "cell_type": "code",
   "execution_count": null,
   "metadata": {},
   "outputs": [],
   "source": [
    "#Print the first and last member of the list. Acess the first element (element 0), and the last element (-1).\n",
    "#The second to last element would be accessed using [-2].\n",
    "print(\"Name: \" + exported_record[0], \"   email: \" + exported_record[-1] +\"\\n\")\n",
    "\n",
    "#Join the list by comma and store in exported_record\n",
    "exported_record_csv = \",\".join(exported_record)\n",
    "print(exported_record_csv)"
   ]
  },
  {
   "cell_type": "markdown",
   "metadata": {},
   "source": [
    "## Find() method for strings"
   ]
  },
  {
   "cell_type": "code",
   "execution_count": null,
   "metadata": {},
   "outputs": [],
   "source": [
    "gburg_text = \"Four score and seven years ago our fathers brought forth on this continent, a new nation, conceived in Liberty, and dedicated to the proposition that all men are created equal.\"\n",
    "\n",
    "#Find first instance of a word, find(value, start default = 0, end default = end of string)\n",
    "find_pos = gburg_text.find(\"score\")\n",
    "print(find_pos)"
   ]
  },
  {
   "cell_type": "markdown",
   "metadata": {
    "toc-hr-collapsed": true
   },
   "source": [
    "# File Operations\n",
    "\n",
    "Use the open() function to read(r), append (a), or write (w) to a file. Opening a file returns a file handle, not the actual data in the file. After opening the file you can read or write to it. When you are finished with the file, ensure it is closed. Failing to close a file may lead to memory issues, inaccessible files, and possibly data loss."
   ]
  },
  {
   "cell_type": "code",
   "execution_count": null,
   "metadata": {},
   "outputs": [],
   "source": [
    "# use the os module to access operating system information such as the current working directory (getcwd())\n",
    "import os\n",
    "\n",
    "# Create (or overwrite) a file\n",
    "# If no path is specified, the file will be created in the current working directory\n",
    "\n",
    "# If the file exists, opening with the \"w\" parameter overwrites the existing file. To avoid overwriting a file, open it with \"a\" (append).\n",
    "f = open(\"demofile.txt\", \"w\")\n",
    "\n",
    "f.write(\"This is the first line of the file.\\n\")\n",
    "\n",
    "# Be sure to close your file. Failure to do so will cause problems.\n",
    "f.close()\n",
    "\n",
    "# Get the current directory\n",
    "print(os.getcwd())"
   ]
  },
  {
   "cell_type": "markdown",
   "metadata": {},
   "source": [
    "## Using the With statement for opening files\n",
    "One advantage to using the With statement is that files you open using this method are automatically closed."
   ]
  },
  {
   "cell_type": "code",
   "execution_count": null,
   "metadata": {},
   "outputs": [],
   "source": [
    "# Append the file\n",
    "with open(\"demofile.txt\", \"a\") as f:\n",
    "    f.write(\"This is the second line.\\n\")\n",
    "\n",
    "    # No need to explicitly close the file. Close() is automatically called."
   ]
  },
  {
   "cell_type": "markdown",
   "metadata": {
    "toc-hr-collapsed": false
   },
   "source": [
    "## Reading files\n",
    "There are several ways to read data from a file. Some of the methods to read a file include: reading a specified number of characters, reading line-by-line, or a reading number of lines."
   ]
  },
  {
   "cell_type": "markdown",
   "metadata": {},
   "source": [
    "### Reading an entire file"
   ]
  },
  {
   "cell_type": "code",
   "execution_count": null,
   "metadata": {},
   "outputs": [],
   "source": [
    "file_path = os.getcwd()\n",
    "file_abs = file_path + \"\\\\\"+\"gettysburg.txt\"\n",
    "with open(file_abs,\"r\") as fh_getty:\n",
    "    #read() will access the entire file. Not a good option for large files.\n",
    "    print(fh_getty.read())"
   ]
  },
  {
   "cell_type": "code",
   "execution_count": null,
   "metadata": {},
   "outputs": [],
   "source": [
    "with open(file_abs,\"r\") as fh_getty:\n",
    "    n = 100\n",
    "    #read() will access the entire file. Not a good option for large files.\n",
    "    print(fh_getty.read(n)) # Read the first n characters"
   ]
  },
  {
   "cell_type": "code",
   "execution_count": null,
   "metadata": {},
   "outputs": [],
   "source": [
    "with open(file_abs,\"r\") as fh_getty:    \n",
    "    #read() will access the entire file. Not a good option for large files.\n",
    "    print(fh_getty.readline()) # Read a line\n",
    "    print(fh_getty.readline()) # Read a line\n",
    "    print(fh_getty.readline()) # Read a line"
   ]
  },
  {
   "cell_type": "code",
   "execution_count": null,
   "metadata": {},
   "outputs": [],
   "source": [
    "with open(\"gettysburg.txt\",\"r\") as fh_getty:    \n",
    "    #read() will access the entire file. Not a good option for large files.\n",
    "    x = fh_getty.readlines() # Read all lines with new line characters, separated by commas\n",
    "    print(x[0])"
   ]
  },
  {
   "cell_type": "code",
   "execution_count": null,
   "metadata": {},
   "outputs": [],
   "source": [
    "with open(\"gettysburg.txt\",\"r\") as fh_getty:\n",
    "    line_number = 0\n",
    "    for x in fh_getty: # \"x\" will represent a line\n",
    "        print(str(line_number) + \": \" + x)\n",
    "        line_number += 1"
   ]
  },
  {
   "cell_type": "code",
   "execution_count": null,
   "metadata": {},
   "outputs": [],
   "source": [
    "with open(\"fake_customer_list.txt\", \"r\") as fh_customers:\n",
    "    \n",
    "    for record in fh_customers:\n",
    "        customer_list = record.split(\"|\")\n",
    "        full_name = customer_list[0]\n",
    "        email = customer_list[-1]\n",
    "        print(full_name + \" -- \" + email)        "
   ]
  },
  {
   "cell_type": "code",
   "execution_count": null,
   "metadata": {},
   "outputs": [],
   "source": [
    "import os\n",
    "print(os.listdir(os.getcwd()))"
   ]
  },
  {
   "cell_type": "markdown",
   "metadata": {},
   "source": [
    "## Writing to a File"
   ]
  },
  {
   "cell_type": "code",
   "execution_count": null,
   "metadata": {},
   "outputs": [],
   "source": [
    "cars = [\"Ford\",\"Focus\",\"2016\",\"Red\",45000]\n",
    "cars_zipped = zip(cars,[\"Volkswagen\", \"Passat\", \"2019\", \"Black\", 11000])\n",
    "cars_list = list(cars_zipped)\n",
    "print(cars_list[0][0])"
   ]
  },
  {
   "cell_type": "code",
   "execution_count": null,
   "metadata": {},
   "outputs": [],
   "source": [
    "with open('NewCar.txt', 'w') as file_handle:\n",
    "    for line in car_list:\n",
    "        file_handle.write(car_list)\n",
    "\n",
    "with open('NewCar.txt', 'r') as file_handle:\n",
    "    for line in file_handle:\n",
    "        print(line)"
   ]
  },
  {
   "cell_type": "markdown",
   "metadata": {},
   "source": [
    "## Brief mention: Pandas and Numpy\n",
    "Although built-in file operations in Python may be useful for trivial matters, Pandas and Numpy are much more effective for reading, shaping, and analyzing data. Using these libraries is beyond the scope of this course, however, you should be aware of these libraries. "
   ]
  },
  {
   "cell_type": "code",
   "execution_count": null,
   "metadata": {},
   "outputs": [],
   "source": [
    "import pandas as pd\n",
    "\n",
    "df = pd.read_csv(\"fake_customer_list.txt\", sep=\"|\")\n",
    "df.head()\n"
   ]
  },
  {
   "cell_type": "code",
   "execution_count": null,
   "metadata": {},
   "outputs": [],
   "source": [
    "df.describe()"
   ]
  },
  {
   "cell_type": "markdown",
   "metadata": {
    "toc-hr-collapsed": true
   },
   "source": [
    "# Data Structures\n",
    "sources: (W3Schools, RealPython.com)\n",
    "\n",
    "## What's a data structure?\n",
    "As its name implies, a data structure is a containerthat holds data. Just like some post office boxes hold packages and others hold letters, Python's built-in data structures have different purposes and uses. Use data structures to organize and perform operations on data. Python has the following built-in data structures: Lists, Dictionaries, Sets, and Tuples. Each container has different attributes and is used for a different purpose.\n",
    "\n",
    "<img src=\"images/post_office_boxes.jpg\" align=\"middle\">\n"
   ]
  },
  {
   "cell_type": "markdown",
   "metadata": {},
   "source": [
    "## Comparing Built-in Data Structures\n",
    "Below is a comparsion of four built-in data structures in Python. \n",
    "\n",
    "![](images/Structures.jpg)"
   ]
  },
  {
   "cell_type": "markdown",
   "metadata": {
    "toc-hr-collapsed": false
   },
   "source": [
    "## Lists\n",
    "\n",
    "A list is an ordered sequence of *items*. Lists are similar to arrays in other languages. One difference is that Lists can contain different types of data."
   ]
  },
  {
   "cell_type": "markdown",
   "metadata": {},
   "source": [
    "### Creating Lists\n",
    " \n",
    "Lists are created using several methods."
   ]
  },
  {
   "cell_type": "code",
   "execution_count": null,
   "metadata": {},
   "outputs": [],
   "source": [
    "#Use square brackets to make list\n",
    "\n",
    "my_list = [] # an empty list\n",
    "\n",
    "cities = [\"Dallas\",\"Chicago\",\"Miami\",\"Grand Rapids\" ]\n",
    "print(cities, type(cities))\n",
    "\n",
    "#Ordered -- accessible via index\n",
    "print(cities[2])\n",
    "\n",
    "# Lists are not limited to containing only values of a single type\n",
    "# A list may contain objects such as another list \n",
    "my_list = [True, 0, \"Greg Bott\", 3.14159, [\"steak\",\"eggs\",\"donuts\"]]"
   ]
  },
  {
   "cell_type": "code",
   "execution_count": null,
   "metadata": {},
   "outputs": [],
   "source": [
    "# The split() operation results in a list\n",
    "\n",
    "addr = 'monty@python.org'\n",
    "uname, domain = addr.split('@')\n",
    "email = addr.split('@' )\n",
    "print(f\"user name = {uname}\")\n",
    "print(f\"domain name = {domain}\")\n",
    "print(type(uname))\n",
    "print(type(email))\n",
    "print(email[0])"
   ]
  },
  {
   "cell_type": "markdown",
   "metadata": {},
   "source": [
    "## Adding items to a list"
   ]
  },
  {
   "cell_type": "code",
   "execution_count": null,
   "metadata": {},
   "outputs": [],
   "source": [
    "# use the Append method to add items to a list\n",
    "cities.append(\"Columbia\")\n",
    "print(cities)"
   ]
  },
  {
   "cell_type": "markdown",
   "metadata": {},
   "source": [
    "### Testing for membership\n",
    "\n",
    "Use the in keyword to test for list membership."
   ]
  },
  {
   "cell_type": "code",
   "execution_count": null,
   "metadata": {},
   "outputs": [],
   "source": [
    "print(\"Dallas\" in cities)\n",
    "print(\"Tuscaloosa\" in cities)"
   ]
  },
  {
   "cell_type": "markdown",
   "metadata": {},
   "source": [
    "### Iterating a list\n",
    "\n",
    "Use a for loop to iterate a list.\n",
    "\n",
    "Use the len() function to determine how many items are in the list and use that within a range() function."
   ]
  },
  {
   "cell_type": "code",
   "execution_count": null,
   "metadata": {},
   "outputs": [],
   "source": [
    "for i in range(len(cities)):\n",
    "    print(cities[i],end=\" \")"
   ]
  },
  {
   "cell_type": "markdown",
   "metadata": {},
   "source": [
    "### List operations\n"
   ]
  },
  {
   "cell_type": "code",
   "execution_count": null,
   "metadata": {},
   "outputs": [],
   "source": [
    "# Use the '+' operator to concatenate lists\n",
    "a = [1,2,3]\n",
    "b = [4,5,6]\n",
    "c = a + b # does not alter 'a' or 'b'\n",
    "print(c, type(c))\n",
    "\n",
    "print(a)\n",
    "\n",
    "a.extend(b) # This combines a and b, alters a but not b\n",
    "print(\"list 'a' = \", a)\n",
    "print(\"list 'b' =\", b)\n",
    "print(c)"
   ]
  },
  {
   "cell_type": "code",
   "execution_count": null,
   "metadata": {},
   "outputs": [],
   "source": [
    "# Use the '*' operator to repeat items\n",
    "print(a * 3)"
   ]
  },
  {
   "cell_type": "markdown",
   "metadata": {},
   "source": [
    "### Slicing Lists\n",
    "You can return parts of a list using slicing operators. Tuples can also be sliced."
   ]
  },
  {
   "cell_type": "code",
   "execution_count": null,
   "metadata": {},
   "outputs": [],
   "source": [
    "# Slicing operations\n",
    "\n",
    "t = ['a', 'b','c','d','e','f','g']\n",
    "\n",
    "# return the 2nd and 3rd elements in t\n",
    "print(t[1:3])"
   ]
  },
  {
   "cell_type": "code",
   "execution_count": null,
   "metadata": {},
   "outputs": [],
   "source": [
    "# Omitting the first parameter tells the intepreter to start at the beginning\n",
    "print(t[:3])"
   ]
  },
  {
   "cell_type": "code",
   "execution_count": null,
   "metadata": {},
   "outputs": [],
   "source": [
    "# Omitting the second paramter tells the interpreter to continue to the end\n",
    "# start with the third element and return all elements to the end of the list\n",
    "print(t[3:])"
   ]
  },
  {
   "cell_type": "markdown",
   "metadata": {},
   "source": [
    "### Sorting Lists"
   ]
  },
  {
   "cell_type": "code",
   "execution_count": null,
   "metadata": {},
   "outputs": [],
   "source": [
    "my_letters = ['n','r','y','x','a','w']\n",
    "\n",
    "# Use the sort() method to sort a list\n",
    "my_letters.sort()\n",
    "\n",
    "print(my_letters)\n",
    "\n",
    "my_letters = my_letters.sort() # Don't do this...sort() returns \"None\"\n",
    "print(my_letters)"
   ]
  },
  {
   "cell_type": "markdown",
   "metadata": {},
   "source": [
    "### Deleting Items from a List"
   ]
  },
  {
   "cell_type": "code",
   "execution_count": null,
   "metadata": {},
   "outputs": [],
   "source": [
    "# Deleting elements by index\n",
    "t = ['a', 'b', 'c']\n",
    "\n",
    "\n",
    "# We want to delete 'b' and we know it's index value is 1\n",
    "x = t.pop(1)\n",
    "\n",
    "# The pop() method deletes the element from teh list and returns the deleted value (stored in x)\n",
    "\n",
    "t # New list without 'b'\n",
    "#print(x) # 'b' stored in x"
   ]
  },
  {
   "cell_type": "markdown",
   "metadata": {
    "toc-hr-collapsed": true
   },
   "source": [
    "## Dictionaries\n",
    "\n",
    "Think of dictionaries like a list, but with a flexible index. The List index must be an integer, but the index or keys used to associate values can be different types.\n",
    "\n",
    "Dictionaries are **unordered** and use key-value pairs to store and retrieve data. In other languages this structure might be called an *associative array*.\n",
    "\n"
   ]
  },
  {
   "cell_type": "markdown",
   "metadata": {},
   "source": [
    "### Creating dictionaries\n",
    "Use curly braces and a colon to indicate to the interpreter that you are creating a dictionary data structure."
   ]
  },
  {
   "cell_type": "code",
   "execution_count": null,
   "metadata": {},
   "outputs": [],
   "source": [
    "# The employee ID is associated with the employee name\n",
    "employees = {\"2334\":\"Greg Bott\", \"2335\":\"John Gilbert\", \"2336\":\"Bill Hampton\",\"2337\":\"Joe Odom\"}\n",
    "print(employees)"
   ]
  },
  {
   "cell_type": "code",
   "execution_count": null,
   "metadata": {},
   "outputs": [],
   "source": [
    "# Using the employee ID (key), display the name of the employee (value)\n",
    "print(employees[\"2334\"])"
   ]
  },
  {
   "cell_type": "code",
   "execution_count": null,
   "metadata": {},
   "outputs": [],
   "source": [
    "# Use a List within a dictionary (see Golf web-scraping example)\n",
    "make_model = {\"Ford\":[\"Mustang\",\"Explorer\",\"Focus\"],\"Volkswagen\":[\"Passat\",\"Jetta\",\"Beetle\"]}\n",
    "print(make_model[\"Ford\"])\n"
   ]
  },
  {
   "cell_type": "code",
   "execution_count": null,
   "metadata": {},
   "outputs": [],
   "source": [
    "# Create an empty dictionary\n",
    "person = {}\n",
    "\n",
    "#Display the type of the 'person' variable\n",
    "print(type(person))\n",
    "\n",
    "person['fname'] = 'Greg'\n",
    "person['lname'] = 'Bott'\n",
    "person['spouse'] = 'Amy'\n",
    "person['children'] = ['John Davis', 'Piper', 'Will', 'Truett']\n",
    "person['pets'] = {'dog': 'Bama', 'cat': 'TJ'}\n",
    "\n",
    "print(person)"
   ]
  },
  {
   "cell_type": "code",
   "execution_count": null,
   "metadata": {},
   "outputs": [],
   "source": [
    "print(person['fname'])"
   ]
  },
  {
   "cell_type": "code",
   "execution_count": null,
   "metadata": {},
   "outputs": [],
   "source": [
    "# Add to \n",
    "person['pets'] = {'flying squirrel':'Rocky'}\n",
    "print(person['pets'])"
   ]
  },
  {
   "cell_type": "markdown",
   "metadata": {},
   "source": [
    "### Check for Values in a Dictionary\n",
    "\n",
    "To determine if a value is present within a key, us the *in* keyword."
   ]
  },
  {
   "cell_type": "code",
   "execution_count": null,
   "metadata": {},
   "outputs": [],
   "source": [
    "print(\"Focus\" in make_model[\"Ford\"])\n",
    "print(\"Explorer II\" in make_model[\"Ford\"])\n"
   ]
  },
  {
   "cell_type": "markdown",
   "metadata": {},
   "source": [
    "### Access Specific item in key value\n",
    "\n",
    "Individual values associated with a key may be accessed by an index value."
   ]
  },
  {
   "cell_type": "code",
   "execution_count": null,
   "metadata": {},
   "outputs": [],
   "source": [
    "# Print the third value associated with the Ford key.\n",
    "print(make_model['Ford'][2])"
   ]
  },
  {
   "cell_type": "markdown",
   "metadata": {},
   "source": [
    "### Check for Keys in a Dictionary"
   ]
  },
  {
   "cell_type": "code",
   "execution_count": null,
   "metadata": {},
   "outputs": [],
   "source": [
    "search_key = \"Focus\"\n",
    "if search_key in make_model:\n",
    "    print(f\"'{search_key}' key found in dictionary!\")\n",
    "else:\n",
    "    print(f\"'{search_key}' key NOT found in dictionary.\")"
   ]
  },
  {
   "cell_type": "markdown",
   "metadata": {
    "toc-hr-collapsed": true
   },
   "source": [
    "## Sets\n",
    "* Sets are unordered.\n",
    "* Set elements are unique. Duplicate elements are not allowed.\n",
    "* You may add or remove items from the set, but you cannot edit an item in a set.\n",
    "* Accessing items by index (e.g., myset[1]) is NOT supported.\n",
    "\n",
    "You can define a set using the set() function.\n",
    "```python\n",
    "x = set(<iter>)\n",
    "```"
   ]
  },
  {
   "cell_type": "code",
   "execution_count": null,
   "metadata": {},
   "outputs": [],
   "source": [
    "my_list = ['a','b',1, 'c']\n",
    "set2 = set('a','b',1, 'c')\n",
    "print(set2)\n",
    "print(my_list)"
   ]
  },
  {
   "cell_type": "markdown",
   "metadata": {},
   "source": [
    "You can also create a set using curly braces {}."
   ]
  },
  {
   "cell_type": "code",
   "execution_count": null,
   "metadata": {},
   "outputs": [],
   "source": [
    "# Use curly braces to create a set\n",
    "my_set = {1,1, 6,7, 3, 5, 'red'}\n",
    "print(type(my_set))\n",
    "print(my_set)"
   ]
  },
  {
   "cell_type": "markdown",
   "metadata": {},
   "source": [
    "### Why do I care about sets?\n",
    "Sets in Python are the same as sets in mathematics. Sets contain a well-defined collection of distinct objects called elements. Using the set object enables you to perform set operations such as union and intersection.\n",
    "\n",
    "![](images/data_science_diagram.png)\n",
    "(image source: https://towardsdatascience.com)"
   ]
  },
  {
   "cell_type": "code",
   "execution_count": null,
   "metadata": {},
   "outputs": [],
   "source": [
    "# Persons with expertise in specific areas\n",
    "cs_expertise = {\"Bill\", \"Matt\", \"Alexandra\", \"Joe\", \"Dexter\"}\n",
    "stats_expertise = {\"Dexter\", \"Subha\", \"Brad\", \"Bruce\"}\n",
    "business_expertise = {\"Kay\",\"Jonathan\",\"Dexter\",\"Suzanne\", \"Matt\"}\n",
    "\n",
    "# Who might be suited for Data Science (intersection of three topics)\n",
    "data_scientists = cs_expertise.intersection(stats_expertise, business_expertise)\n",
    "print(data_scientists)"
   ]
  },
  {
   "cell_type": "code",
   "execution_count": null,
   "metadata": {},
   "outputs": [],
   "source": [
    "#Error creating tropical_fruits set using set() contructor...why? [answer: it expects and iterable like a list or a tuple]\n",
    "tropical_fruits = set([\"Guava\", \"Dragon Fruit\", \"Banana\",\"Banana\"])\n",
    "temperate_fruits = {\"Apple\", \"Peach\", \"Plum\"}\n",
    "\n",
    "all_fruit = tropical_fruits.union(temperate_fruits)\n",
    "print(all_fruit)"
   ]
  },
  {
   "cell_type": "code",
   "execution_count": null,
   "metadata": {},
   "outputs": [],
   "source": [
    "#Empty sets are evaluated as False\n",
    "loch_ness_monsters = set()\n",
    "print(\"The set of Loch Ness Monsters is \" + str(bool(loch_ness_monsters)))\n",
    "print()\n",
    "\n",
    "#You can add, update, and remove items, but you cannot change items in a set\n",
    "loch_ness_monsters.add(\"Marvin\")\n",
    "print(\"Added Marvin to monster set...\")\n",
    "print(\"The set of Loch Ness Monsters is \" + str(bool(loch_ness_monsters)), loch_ness_monsters)\n",
    "print(\"The length of the monster set is \" + str(len(loch_ness_monsters)))\n",
    "print()\n",
    "\n",
    "#Find the unique grade values\n",
    "grades = {81,100,81,89,76,94,93,86,75,88,96,76,87,90,81,78,99,83,94,75,83,92,96,81,99,89,99,98,100,95,84,94,97,100,92,97,98,92,95,88,90,98,87,86,95,86,84,91,87,88,83,89,84,98,75,90,100,79,83,94,89,93,84,83,94,84,93,97,75,81,91,84,78,89,96,97,99,90,98,83,93,96,98,91,77,98,97,76,98,75,89,92,81,83,84,82,94,89,77,96,94,100,86,79,87,78,83,86,89,99,77,96,88,91,86,89,99,82,83,92,91,84,83,76,89,90,82,75,84,83,81,96,87,90,82,93,76,86,100,81,88,100,94,84,99,77,91,92,98,88,90,83,88}\n",
    "print(grades)\n",
    "b_and_higher = set(range(75,101))\n",
    "\n",
    "missing_grades = grades.symmetric_difference(b_and_higher)\n",
    "\n",
    "\n",
    "print(\"What grades are missing from 75-100?: \" + str(missing_grades))"
   ]
  },
  {
   "cell_type": "code",
   "execution_count": null,
   "metadata": {},
   "outputs": [],
   "source": []
  },
  {
   "cell_type": "code",
   "execution_count": null,
   "metadata": {},
   "outputs": [],
   "source": [
    "#Use the set() method to create a set, parameter must be <iter> (an iterable --e.g., a list)\n",
    "my_set2 = set(('foo', 'bar', 3.141))\n"
   ]
  },
  {
   "cell_type": "markdown",
   "metadata": {},
   "source": [
    "## Tuples\n",
    "What is the proper pronunication of \"tuple\"? Answer: either TEW-pull or TUP-pull. \n",
    "\n"
   ]
  },
  {
   "cell_type": "code",
   "execution_count": null,
   "metadata": {},
   "outputs": [],
   "source": [
    "s = ' abc'\n",
    "t = [0, 1, 2] \n",
    "zip(s, t)\n",
    "for pair in zip(s, t):\n",
    "    print(pair)\n"
   ]
  },
  {
   "cell_type": "markdown",
   "metadata": {
    "toc-hr-collapsed": true
   },
   "source": [
    "# Regular Expressions\n",
    "RegEx or regular expressions is a sequence of characters that match other strings or sets of strings, using a specialized syntax pattern. Python has a built-in package called re, which can be used to work with regular expressions. To use the re package, import re.\n",
    "\n",
    "\n",
    "\n",
    "See also (https://pypi.org/project/regex/) for an alternative expression module that replaces re."
   ]
  },
  {
   "cell_type": "markdown",
   "metadata": {},
   "source": [
    "## Raw Strings\n",
    "\n",
    "To avoid Python escaping the RegEx patterns, prefix the patter with 'r'."
   ]
  },
  {
   "cell_type": "markdown",
   "metadata": {},
   "source": [
    "## Regex Cheat Sheet\n",
    "\n",
    "source: https://regexone.com\n",
    "\n",
    "For an excellent interactive tutorial, go to https://regexone.com/lesson/introduction_abcs\n",
    "\n",
    "abc…\tLetters<br>\n",
    "123…\tDigits<br>\n",
    "\\d\tAny Digit<br>\n",
    "\\D\tAny Non-digit character<br>\n",
    ".\tAny Character<br>\n",
    "\\.\tPeriod<br>\n",
    "[abc]\tOnly a, b, or c<br>\n",
    "[^abc]\tNot a, b, nor c<br>\n",
    "[a-z]\tCharacters a to z<br>\n",
    "[0-9]\tNumbers 0 to 9<br>\n",
    "\\w\tAny Alphanumeric character<br>\n",
    "\\W\tAny Non-alphanumeric character<br>\n",
    "{m}\tm Repetitions<br>\n",
    "{m,n}\tm to n Repetitions<br>\n",
    "\\*\tZero or more repetitions<br>\n",
    "\\+\tOne or more repetitions<br>\n",
    "?\tOptional character<br>\n",
    "\\s\tAny Whitespace<br>\n",
    "\\S\tAny Non-whitespace character<br>\n",
    "^…$\tStarts and ends<br>\n",
    "(…)\tCapture Group<br>\n",
    "(a(bc))\tCapture Sub-group<br>\n",
    "(.*)\tCapture all<br>\n",
    "(abc|def)\tMatches abc or def<br>"
   ]
  },
  {
   "cell_type": "code",
   "execution_count": null,
   "metadata": {},
   "outputs": [],
   "source": [
    "# Import the built-in Regular Expressions package\n",
    "import re\n",
    "\n",
    "email_header = \"From stephen.marquard@uct.ac.za Sat Jan 5 09:14:16 2008 Return-Path: <postmaster@collab.sakaiproject.org> for <source@collab.sakaiproject.org>;Received: (from apache@localhost) Author:  stephen.marquard@uct.ac.za\"\n",
    "\n",
    "found_text = re.findall('\\d\\d:\\d\\d:\\d\\d', email_header)\n",
    "print(found_text)\n",
    "\n",
    "author = re.findall('Author:\\s+\\S+', email_header)\n",
    "print(author)"
   ]
  },
  {
   "cell_type": "code",
   "execution_count": null,
   "metadata": {},
   "outputs": [],
   "source": [
    "mboxfile = open(\"mbox.txt\", \"r\")\n",
    "\n",
    "for line in mboxfile:\n",
    "    line = line.rstrip()\n",
    "    \n",
    "    # Search for lines that start with 'F', followed by 2 characters, followed by 'm:'\n",
    "    if re.search('F..m:', line):        \n",
    "        print(line)\n",
    "mboxfile.close()"
   ]
  },
  {
   "cell_type": "code",
   "execution_count": null,
   "metadata": {},
   "outputs": [],
   "source": [
    "# Store all email addresses into a list\n",
    "mboxfile = open(\"mbox.txt\", \"r\")\n",
    "all_emails_list = []\n",
    "for line in mboxfile:\n",
    "    line = line.rstrip()\n",
    "    x = re.findall('\\S+@\\S+\\.\\D\\D\\D', line)\n",
    "    if len(x) > 0:\n",
    "        all_emails_list.extend(x)\n",
    "print(all_emails_list)"
   ]
  },
  {
   "cell_type": "code",
   "execution_count": null,
   "metadata": {},
   "outputs": [],
   "source": [
    "mboxfile = open(\"mbox.txt\", \"r\")\n",
    "all_emails_list = []\n",
    "for line in mboxfile:\n",
    "    line = line.rstrip()\n",
    "    x = re.findall('rev=.....', line)\n",
    "    if len(x) > 0:\n",
    "        all_emails_list.extend(x)\n",
    "\n",
    "print(all_emails_list)\n",
    "all_revs_set = set(all_emails_list)\n",
    "print(len(all_revs_set))"
   ]
  },
  {
   "cell_type": "markdown",
   "metadata": {
    "toc-hr-collapsed": true
   },
   "source": [
    "# Network Programs"
   ]
  },
  {
   "cell_type": "markdown",
   "metadata": {},
   "source": [
    "## Sending Email"
   ]
  },
  {
   "cell_type": "code",
   "execution_count": null,
   "metadata": {},
   "outputs": [],
   "source": [
    "import smtplib\n",
    "\n",
    "smtp_server = smtplib.SMTP('mx1.ua.edu')\n",
    "smtp_server.ehlo()\n"
   ]
  },
  {
   "cell_type": "code",
   "execution_count": null,
   "metadata": {},
   "outputs": [],
   "source": [
    "import smtplib\n",
    "\n",
    "sender = 'gjbott@ua.edu'\n",
    "receivers = ['gregbott@gmail.com']\n",
    "\n",
    "message = \"\"\"From: From Gregory Bott <gjbott@ua.edu>\n",
    "To: Gregory Bott <gregbott@gmail.com>\n",
    "Subject: SMTP e-mail test 1411\n",
    "\n",
    "This is a test e-mail message.\n",
    "\"\"\"\n",
    "\n",
    "try:\n",
    "    smtpObj = smtplib.SMTP('mx2.ua.edu')    \n",
    "    smtpObj.sendmail(sender, receivers, message)         \n",
    "    print(\"Successfully sent email\")\n",
    "except:\n",
    "    print(\"Error: unable to send email\")"
   ]
  },
  {
   "cell_type": "code",
   "execution_count": null,
   "metadata": {},
   "outputs": [],
   "source": [
    "import smtplib\n",
    "\n",
    "# These settings also work for G Suite *if* an SMTP relay is configured by the admin\n",
    "\n",
    "sender = 'gregbott@gmail.com'\n",
    "recipients = ['lmwright6@crimson.ua.edu']\n",
    "smtp_host = 'smtp.gmail.com'\n",
    "smtp_port = 587 # Use port 587 for TLS\n",
    "\n",
    "#\n",
    "message = \"\"\"From: From Dr. Gregory Bott <gregbott@gmail.com>\\nTo: G Money <gjbott@cba.ua.edu>\n",
    "Subject: Python is the new Excel!!!\\n\\nThis is a test e-mail message.\n",
    "\"\"\"\n",
    "\n",
    "try:\n",
    "    smtpObj = smtplib.SMTP(smtp_host)\n",
    "    smtpObj.starttls()\n",
    "    \n",
    "    # Replace \"bott_secret_password with your own password\"\n",
    "    smtpObj.login('gregbott@gmail.com', bott_secret_password)\n",
    "    smtpObj.sendmail(sender, recipients, message)         \n",
    "    print(\"Successfully sent email\")\n",
    "except:\n",
    "    print(\"Error: unable to send email\")"
   ]
  },
  {
   "cell_type": "code",
   "execution_count": null,
   "metadata": {},
   "outputs": [],
   "source": [
    "import smtplib\n",
    "from email.mime.text import MIMEText\n",
    "\n",
    "email_address = \"putyouaddress@here.com\"\n",
    "email_password = \"your_password\" # must have application password if using two-factor auth\n",
    "\n",
    "msg = MIMEText(\"this is the message body\")\n",
    "\n",
    "msg['Subject'] = \"this is the subject line\"\n",
    "\n",
    "try:\n",
    "    smtp_server = smtplib.SMTP_SSL('smtp.gmail.com:465') # Use port 465 for SSL\n",
    "    smtp_server.login('email','serverpassword')\n",
    "    smtp_server.sendmail('from','to', msg.as_string())\n",
    "    smtp_server.quit()\n",
    "except:\n",
    "    print(\"Error: unable to send email\")"
   ]
  },
  {
   "cell_type": "markdown",
   "metadata": {},
   "source": [
    "# Using Databases and SQLite\n",
    "\n",
    "Helpful tools: \n",
    "* SQLite Studio (multi-platform)\n",
    "https://sqlitestudio.pl/index.rvt?act=download\n",
    "\n",
    "* SQL Browser\n",
    "https://sqlitebrowser.org/\n",
    "\n",
    "Link to helpful SQL commands: \n",
    "https://www.w3schools.com/sql/sql_syntax.asp\n"
   ]
  },
  {
   "cell_type": "code",
   "execution_count": null,
   "metadata": {},
   "outputs": [],
   "source": [
    "# Creates a SQLite database called music.sqlite\n",
    "import sqlite3\n",
    "conn = sqlite3.connect('music.sqlite') \n",
    "cur = conn.cursor()\n",
    "\n",
    "# Delete Tracks table (if exists), then create a table with two fields (title and plays)\n",
    "cur.execute('DROP TABLE IF EXISTS Tracks') \n",
    "cur.execute('CREATE TABLE Tracks (title TEXT, plays INTEGER)') \n",
    "conn.close()"
   ]
  },
  {
   "cell_type": "code",
   "execution_count": null,
   "metadata": {},
   "outputs": [],
   "source": [
    "conn = sqlite3.connect('music.sqlite') \n",
    "\n",
    "# Get a \"file handle\" to the database\n",
    "cur = conn.cursor()\n",
    "\n",
    "# Create two new records in the Tracks table\n",
    "cur.execute('INSERT INTO Tracks (title, plays) VALUES (?, ?)', ('Thunderstruck', 20))\n",
    "cur.execute('INSERT INTO Tracks (title, plays) VALUES (?, ?)', ('My Way', 15))\n",
    "cur.execute('INSERT INTO Tracks (title, plays) VALUES (?, ?)', ('Who can it be now?', 55))\n",
    "cur.execute('INSERT INTO Tracks (title, plays) VALUES (?, ?)', ('Party on Fifth Ave.', 80))\n",
    "\n",
    "# \"Save\" the records\n",
    "conn.commit()\n",
    "\n",
    "print('Tracks:') \n",
    "\n",
    "# Return all records (title, plays fields) from Tracks table into the cursor\n",
    "cur.execute('SELECT title, plays FROM Tracks') \n",
    "\n",
    "# iterate through the rows\n",
    "for row in cur:\n",
    "    print(row)\n",
    "\n",
    "# Delete all rows with values in the plays field that are less than 100\n",
    "cur.execute('DELETE FROM Tracks WHERE plays > 100') \n",
    "conn.commit()\n",
    "\n",
    "# Remove the cursor object from memory\n",
    "cur.close()"
   ]
  },
  {
   "cell_type": "markdown",
   "metadata": {
    "toc-hr-collapsed": true
   },
   "source": [
    "# Data Visualization\n",
    "\n"
   ]
  },
  {
   "cell_type": "code",
   "execution_count": 2,
   "metadata": {},
   "outputs": [
    {
     "name": "stdout",
     "output_type": "stream",
     "text": [
      "[0 1 2 3 4 5]\n",
      "after exit\n"
     ]
    },
    {
     "data": {
      "image/png": "[encoded data removed]",
      "text/plain": [
       "<Figure size 432x288 with 1 Axes>"
      ]
     },
     "metadata": {
      "needs_background": "light"
     },
     "output_type": "display_data"
    }
   ],
   "source": [
    "import matplotlib.pyplot as plt\n",
    "import numpy as np\n",
    "import matplotlib.pyplot as plt\n",
    " \n",
    "objects = ['Bananas', 'Apples', 'Mangos', 'Blueberries', 'Oranges', 'Watermelon']\n",
    "\n",
    "# Return a equally spaced series of integers for positioning on x axis\n",
    "x_pos = np.arange(len(objects))\n",
    "\n",
    "# y axis values\n",
    "num_cases = [14,17,9,3,19,11]\n",
    "\n",
    "# Create the bar chart using x and y\n",
    "plt.bar(x_pos, num_cases)\n",
    "plt.xticks(x_pos, objects)\n",
    "plt.ylabel('Cases')\n",
    "plt.title('Fruit On Hand')\n",
    " \n",
    "plt.show()"
   ]
  },
  {
   "cell_type": "markdown",
   "metadata": {},
   "source": [
    "## Creating a Pie Chart from a SQLite database\n"
   ]
  },
  {
   "cell_type": "code",
   "execution_count": null,
   "metadata": {},
   "outputs": [],
   "source": [
    "# Pie chart, where the slices will be ordered and plotted counter-clockwise:\n",
    "labels = 'Frogs', 'Hogs', 'Dogs', 'Logs'\n",
    "sizes = [15, 30, 45, 10]\n",
    "explode = (0, 0.1, 0, 0)  # only \"explode\" the 2nd slice (i.e. 'Hogs')\n",
    "\n",
    "\n",
    "fig1, ax1 = plt.subplots(figsize=(6,6))\n",
    "ax1.pie(sizes, explode=explode, labels=labels, autopct='%1.1f%%',\n",
    "        shadow=True, startangle=90)\n",
    "ax1.axis('equal')  # Equal aspect ratio ensures that pie is drawn as a circle."
   ]
  },
  {
   "cell_type": "markdown",
   "metadata": {},
   "source": [
    "### Using SQLite to populate a data frame and plot a pie chart"
   ]
  },
  {
   "cell_type": "code",
   "execution_count": 4,
   "metadata": {},
   "outputs": [
    {
     "name": "stdout",
     "output_type": "stream",
     "text": [
      "G:\\My Drive\\Teaching\\MIS 511\\git_MIS511\n"
     ]
    },
    {
     "data": {
      "text/plain": [
       "<matplotlib.axes._subplots.AxesSubplot at 0x21b55a6e780>"
      ]
     },
     "execution_count": 4,
     "metadata": {},
     "output_type": "execute_result"
    },
    {
     "data": {
      "image/png": "[encoded data removed]",
      "text/plain": [
       "<Figure size 864x864 with 1 Axes>"
      ]
     },
     "metadata": {},
     "output_type": "display_data"
    }
   ],
   "source": [
    "import sqlite3, os\n",
    "import pandas as pd\n",
    "conn = sqlite3.connect('chinook.db')\n",
    "\n",
    "# The connect method above assumes the database is in the current working directory\n",
    "# You can find the current working directory using the os module\n",
    "\n",
    "# Get the current directory\n",
    "print(os.getcwd())\n",
    "\n",
    "df = pd.read_sql_query(\"select * from customers\", conn)\n",
    "country_count = []\n",
    "country_count = df['Country'].value_counts()\n",
    "country_count.plot.pie(figsize=(12,12), autopct='%1.1f%%')"
   ]
  }
 ],
 "metadata": {
  "kernelspec": {
   "display_name": "Python 3",
   "language": "python",
   "name": "python3"
  },
  "language_info": {
   "codemirror_mode": {
    "name": "ipython",
    "version": 3
   },
   "file_extension": ".py",
   "mimetype": "text/x-python",
   "name": "python",
   "nbconvert_exporter": "python",
   "pygments_lexer": "ipython3",
   "version": "3.7.1"
  },
  "toc-autonumbering": true,
  "toc-showcode": false,
  "toc-showmarkdowntxt": true
 },
 "nbformat": 4,
 "nbformat_minor": 2
}
