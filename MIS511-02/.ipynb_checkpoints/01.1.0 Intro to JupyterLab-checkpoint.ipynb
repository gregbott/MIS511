{
 "cells": [
  {
   "cell_type": "markdown",
   "metadata": {},
   "source": [
    "# Introduction to Jupyter Labs\n",
    "\n",
    "### What is Juypter Labs?\n",
    "\n",
    "JupyterLab is an interactive development environment for working with notebooks, code and data. Most importantly, JupyterLab has **full support for Jupyter notebooks**. Additionally, JupyterLab enables you to use text editors, terminals, data file viewers, and other custom components side by side with notebooks in a tabbed work area.\n",
    "\n",
    "\n",
    "![Jupyter Labs IDE](https://cdn-images-1.medium.com/max/1000/1*O20XGvUOTLoFKQ9o20usIA.png)\n",
    "\n",
    "### What is a Jupyter Notebook?\n",
    "\n",
    "> The **Jupyter Notebook** is an open-source web application that allows you to create and share documents that contain live code, equations, visualizations and narrative text. Uses include: data cleaning and transformation, numerical simulation, statistical modeling, data visualization, machine learning, and much more.\n",
    "\n",
    "\n",
    "### Why are Jupyter Notebooks useful?\n",
    "* Enables you efficiently present quantitative results in a compelling manner\n",
    "* Execute code directly in the notebook\n",
    "* Best method to present data and quant results\n",
    "\n",
    "#### Three kinds of cells\n",
    "* Code cells\n",
    "\n",
    "* Markdown cells \n",
    "\n",
    "* Raw cells\n",
    "    > Used to render different code formats into HTML or LaTeX. We will focus on Code and Markdown cells in this course.\n",
    "\n",
    "## Kernels\n",
    "\n",
    "* Notebooks typically run a <span style=\"color:red\">kernel</span>. In this course the Kernel is Python 3. A kernel is the core of the notebook and is language-specific. \n",
    "* Code blocks are executed within the kernel\n",
    "    - Press *`shift + enter`* to run a code block\n",
    "    \n",
    "    ![image](images/jupyter_kernel.png)\n",
    "\n",
    "## How do I learn to write markdown?\n",
    "\n",
    "See Daring Fireball by John Gruber for more information on Markdown. Go [here](https://daringfireball.net/projects/markdown/basics) to learn Markdown basic syntax.\n",
    "\n",
    "Here is a cheat sheet from Adam Pritchard -- [cheat sheet](https://github.com/adam-p/markdown-here/wiki/Markdown-Cheatsheet#code)\n"
   ]
  },
  {
   "cell_type": "code",
   "execution_count": null,
   "metadata": {},
   "outputs": [],
   "source": [
    "print(\"Hello, World!\")"
   ]
  },
  {
   "cell_type": "markdown",
   "metadata": {},
   "source": [
    "## Running Notebooks\n",
    "Jupyter notebooks can be run within Jupyter lab or standalone.\n",
    "\n",
    "Use the Anaconda Navigator to start Jupyter Lab or the Jupyter Notebook standalone browser.\n",
    "\n",
    "Alternatively, from the Anaconda prompt, type \"jupyter notebook\" or \"jupyter lab\" to start the respective environment. Using the command prompt is helpful when you want to set the starting Home folder of your environment. For example, my dev environment is on a network drive, G:. To set the Jupyter Lab Home folder to G:, I change the command prompt to the G: drive (type G: and press ENTER) and then type jupyter lab and again press ENTER.\n",
    "\n",
    "### Bracket labels\n",
    "After code execution completes, the bracked preceding the code block increments by 1 indicating the order of execution.\n",
    "\n",
    "If code exection is in process, an asterisk will appear inside the brackets.\n",
    "\n",
    "![image](images/JupyterAsteriskExecuting.jpg)"
   ]
  },
  {
   "cell_type": "code",
   "execution_count": null,
   "metadata": {},
   "outputs": [],
   "source": [
    "print(\"c\")"
   ]
  },
  {
   "cell_type": "markdown",
   "metadata": {},
   "source": [
    "## Helpful Features of JupyterLab\n",
    "\n",
    "Although notebooks are compatible between JupyterLab and the classic Jupyter notebook, JupyerLab offers several new and helpful features.\n",
    "\n",
    "* Run multiple notebooks in tabs\n",
    "* Use two views for a single notebook (helpful for seeing live rendition of markdown while editing and working on two different parts of a notebook simultaneously)\n",
    "* Collapsable cells (input, output, or both)\n",
    "* Drag and drop cells within and between notebooks\n",
    "* Extensions for new functionality\n",
    "* Isolate output into single view"
   ]
  }
 ],
 "metadata": {
  "kernelspec": {
   "display_name": "Python 3",
   "language": "python",
   "name": "python3"
  },
  "language_info": {
   "codemirror_mode": {
    "name": "ipython",
    "version": 3
   },
   "file_extension": ".py",
   "mimetype": "text/x-python",
   "name": "python",
   "nbconvert_exporter": "python",
   "pygments_lexer": "ipython3",
   "version": "3.6.5"
  }
 },
 "nbformat": 4,
 "nbformat_minor": 2
}
